{
  "cells": [
    {
      "cell_type": "markdown",
      "metadata": {
        "id": "T9RTvqAGcx5v"
      },
      "source": [
        "\n",
        "\n",
        "\n",
        "# 1. IMPORTANDO BIBLIOTECAS\n",
        "\n"
      ]
    },
    {
      "cell_type": "code",
      "execution_count": null,
      "metadata": {
        "id": "0-Xh9R6pc4LD"
      },
      "outputs": [],
      "source": [
        "import pandas as pd\n",
        "import matplotlib.pyplot as plt\n",
        "import numpy as np\n",
        "import json\n",
        "from sklearn.feature_extraction.text import TfidfVectorizer\n",
        "from scipy import stats\n",
        "from google.colab import drive\n",
        "\n",
        "from sklearn.model_selection import train_test_split, GridSearchCV\n",
        "from sklearn.neighbors import KNeighborsClassifier\n",
        "from sklearn.metrics import f1_score, accuracy_score, recall_score, precision_score, classification_report\n",
        "from sklearn.ensemble import RandomForestClassifier\n",
        "from sklearn.linear_model import LogisticRegression\n",
        "from xgboost import XGBClassifier\n",
        "\n",
        "from sklearn.metrics.pairwise import cosine_similarity"
      ]
    },
    {
      "cell_type": "code",
      "execution_count": null,
      "metadata": {
        "colab": {
          "base_uri": "https://localhost:8080/"
        },
        "id": "-vwFDHz2ehin",
        "outputId": "77cc8140-1299-448b-a8a3-3fffaeec1e1d"
      },
      "outputs": [
        {
          "output_type": "stream",
          "name": "stdout",
          "text": [
            "1000\n"
          ]
        }
      ],
      "source": [
        "import sys\n",
        "print(sys.getrecursionlimit())\n",
        "\n",
        "import warnings\n",
        "warnings.filterwarnings(\"ignore\")\n"
      ]
    },
    {
      "cell_type": "code",
      "execution_count": null,
      "metadata": {
        "id": "oR5dtO8TemFe"
      },
      "outputs": [],
      "source": [
        "sys.setrecursionlimit(10000)"
      ]
    },
    {
      "cell_type": "markdown",
      "metadata": {
        "id": "JhNqG1Aber9M"
      },
      "source": [
        "# 2 CARREGANDO AS BASES"
      ]
    },
    {
      "cell_type": "code",
      "execution_count": null,
      "metadata": {
        "colab": {
          "base_uri": "https://localhost:8080/"
        },
        "id": "NJJp3kfFe0l6",
        "outputId": "dcd9915b-b766-42d2-d671-15f53bad7c84"
      },
      "outputs": [
        {
          "output_type": "stream",
          "name": "stdout",
          "text": [
            "Mounted at /content/gdrive\n"
          ]
        }
      ],
      "source": [
        "drive.mount('/content/gdrive', force_remount=True)"
      ]
    },
    {
      "cell_type": "code",
      "execution_count": null,
      "metadata": {
        "id": "hGiZksB3eqcT"
      },
      "outputs": [],
      "source": [
        "metavg = pd.read_json('/content/gdrive/MyDrive/DATABASES/meta_Video_Games.json', lines=True)"
      ]
    },
    {
      "cell_type": "code",
      "execution_count": null,
      "metadata": {
        "id": "wuLADBYXx0r2"
      },
      "outputs": [],
      "source": [
        "videogame = pd.read_json('/content/gdrive/MyDrive/DATABASES/Video_Games_sample.json',lines=True)"
      ]
    },
    {
      "cell_type": "markdown",
      "metadata": {
        "id": "DqiC7RgPycTk"
      },
      "source": [
        "# 3.TRATAMENTO E LIMPEZA DOS DADOS\n",
        "\n",
        "\n"
      ]
    },
    {
      "cell_type": "code",
      "execution_count": null,
      "metadata": {
        "colab": {
          "base_uri": "https://localhost:8080/",
          "height": 354
        },
        "id": "f7grqys9ygmp",
        "outputId": "c0ce9d55-550d-46eb-d520-1888e44e3d0e"
      },
      "outputs": [
        {
          "output_type": "execute_result",
          "data": {
            "text/plain": [
              "                                            category tech1  \\\n",
              "0                           [Video Games, PC, Games]         \n",
              "1  [Video Games, Xbox 360, Games, </span></span><...         \n",
              "2  [Video Games, Retro Gaming & Microconsoles, Su...         \n",
              "3  [Video Games, Xbox 360, Accessories, Controlle...         \n",
              "4  [Video Games, PC, Games, </span></span></span>...         \n",
              "\n",
              "                                         description fit  \\\n",
              "0                                                 []       \n",
              "1                                [Brand new sealed!]       \n",
              "2                                                 []       \n",
              "3  [MAS's Pro Xbox 360 Stick (Perfect 360 Stick) ...       \n",
              "4  [Phonics Alive! 3, The Speller teaches student...       \n",
              "\n",
              "                                               title      also_buy tech2  \\\n",
              "0                         Reversi Sensory Challenger            []         \n",
              "1  Medal of Honor: Warfighter - Includes Battlefi...  [B00PADROYW]         \n",
              "2  street fighter 2 II turbo super nintendo snes ...            []         \n",
              "3                                 Xbox 360 MAS STICK            []         \n",
              "4                      Phonics Alive! 3: The Speller            []         \n",
              "\n",
              "                                       brand  \\\n",
              "0                       Fidelity Electronics   \n",
              "1                     by\\n    \\n    EA Games   \n",
              "2                                   Nintendo   \n",
              "3                  by\\n    \\n    MAS SYSTEMS   \n",
              "4  by\\n    \\n    Advanced Software Pty. Ltd.   \n",
              "\n",
              "                                             feature  \\\n",
              "0                                                 []   \n",
              "1                                                 []   \n",
              "2                                                 []   \n",
              "3  [Original PCB used from Xbox 360 Control Pad (...   \n",
              "4  [Grades 2-12, Spelling Program, Teaches Spelli...   \n",
              "\n",
              "                                                rank  \\\n",
              "0  [>#2,623,937 in Toys &amp; Games (See Top 100 ...   \n",
              "1  [>#67,231 in Video Games (See Top 100 in Video...   \n",
              "2  [>#134,433 in Video Games (See Top 100 in Vide...   \n",
              "3  [>#105,263 in Video Games (See Top 100 in Vide...   \n",
              "4  [>#92,397 in Video Games (See Top 100 in Video...   \n",
              "\n",
              "                                           also_view          main_cat  \\\n",
              "0                                                 []  Toys &amp; Games   \n",
              "1  [B0050SY5BM, B072NQJCW5, B000TI836G, B002SRSQ7...       Video Games   \n",
              "2                                                 []       Video Games   \n",
              "3                                                 []       Video Games   \n",
              "4                                       [B000BCZ7U0]       Video Games   \n",
              "\n",
              "  similar_item date                                              price  \\\n",
              "0                                                                        \n",
              "1                    \\n\\t\\t\\t\\t\\t\\t\\t\\t\\t\\t\\t\\t<span class=\"vertica...   \n",
              "2                                                                $0.72   \n",
              "3                                                                        \n",
              "4                                                                        \n",
              "\n",
              "         asin                                           imageURL  \\\n",
              "0  0042000742  [https://images-na.ssl-images-amazon.com/image...   \n",
              "1  0078764343  [https://images-na.ssl-images-amazon.com/image...   \n",
              "2  0276425316                                                 []   \n",
              "3  0324411812  [https://images-na.ssl-images-amazon.com/image...   \n",
              "4  0439335310  [https://images-na.ssl-images-amazon.com/image...   \n",
              "\n",
              "                                     imageURLHighRes details  \n",
              "0  [https://images-na.ssl-images-amazon.com/image...     NaN  \n",
              "1  [https://images-na.ssl-images-amazon.com/image...     NaN  \n",
              "2                                                 []     NaN  \n",
              "3  [https://images-na.ssl-images-amazon.com/image...     NaN  \n",
              "4  [https://images-na.ssl-images-amazon.com/image...     NaN  "
            ],
            "text/html": [
              "\n",
              "  <div id=\"df-9534ab9a-c324-48b7-9e46-180f647e4e0d\">\n",
              "    <div class=\"colab-df-container\">\n",
              "      <div>\n",
              "<style scoped>\n",
              "    .dataframe tbody tr th:only-of-type {\n",
              "        vertical-align: middle;\n",
              "    }\n",
              "\n",
              "    .dataframe tbody tr th {\n",
              "        vertical-align: top;\n",
              "    }\n",
              "\n",
              "    .dataframe thead th {\n",
              "        text-align: right;\n",
              "    }\n",
              "</style>\n",
              "<table border=\"1\" class=\"dataframe\">\n",
              "  <thead>\n",
              "    <tr style=\"text-align: right;\">\n",
              "      <th></th>\n",
              "      <th>category</th>\n",
              "      <th>tech1</th>\n",
              "      <th>description</th>\n",
              "      <th>fit</th>\n",
              "      <th>title</th>\n",
              "      <th>also_buy</th>\n",
              "      <th>tech2</th>\n",
              "      <th>brand</th>\n",
              "      <th>feature</th>\n",
              "      <th>rank</th>\n",
              "      <th>also_view</th>\n",
              "      <th>main_cat</th>\n",
              "      <th>similar_item</th>\n",
              "      <th>date</th>\n",
              "      <th>price</th>\n",
              "      <th>asin</th>\n",
              "      <th>imageURL</th>\n",
              "      <th>imageURLHighRes</th>\n",
              "      <th>details</th>\n",
              "    </tr>\n",
              "  </thead>\n",
              "  <tbody>\n",
              "    <tr>\n",
              "      <th>0</th>\n",
              "      <td>[Video Games, PC, Games]</td>\n",
              "      <td></td>\n",
              "      <td>[]</td>\n",
              "      <td></td>\n",
              "      <td>Reversi Sensory Challenger</td>\n",
              "      <td>[]</td>\n",
              "      <td></td>\n",
              "      <td>Fidelity Electronics</td>\n",
              "      <td>[]</td>\n",
              "      <td>[&gt;#2,623,937 in Toys &amp;amp; Games (See Top 100 ...</td>\n",
              "      <td>[]</td>\n",
              "      <td>Toys &amp;amp; Games</td>\n",
              "      <td></td>\n",
              "      <td></td>\n",
              "      <td></td>\n",
              "      <td>0042000742</td>\n",
              "      <td>[https://images-na.ssl-images-amazon.com/image...</td>\n",
              "      <td>[https://images-na.ssl-images-amazon.com/image...</td>\n",
              "      <td>NaN</td>\n",
              "    </tr>\n",
              "    <tr>\n",
              "      <th>1</th>\n",
              "      <td>[Video Games, Xbox 360, Games, &lt;/span&gt;&lt;/span&gt;&lt;...</td>\n",
              "      <td></td>\n",
              "      <td>[Brand new sealed!]</td>\n",
              "      <td></td>\n",
              "      <td>Medal of Honor: Warfighter - Includes Battlefi...</td>\n",
              "      <td>[B00PADROYW]</td>\n",
              "      <td></td>\n",
              "      <td>by\\n    \\n    EA Games</td>\n",
              "      <td>[]</td>\n",
              "      <td>[&gt;#67,231 in Video Games (See Top 100 in Video...</td>\n",
              "      <td>[B0050SY5BM, B072NQJCW5, B000TI836G, B002SRSQ7...</td>\n",
              "      <td>Video Games</td>\n",
              "      <td></td>\n",
              "      <td></td>\n",
              "      <td>\\n\\t\\t\\t\\t\\t\\t\\t\\t\\t\\t\\t\\t&lt;span class=\"vertica...</td>\n",
              "      <td>0078764343</td>\n",
              "      <td>[https://images-na.ssl-images-amazon.com/image...</td>\n",
              "      <td>[https://images-na.ssl-images-amazon.com/image...</td>\n",
              "      <td>NaN</td>\n",
              "    </tr>\n",
              "    <tr>\n",
              "      <th>2</th>\n",
              "      <td>[Video Games, Retro Gaming &amp; Microconsoles, Su...</td>\n",
              "      <td></td>\n",
              "      <td>[]</td>\n",
              "      <td></td>\n",
              "      <td>street fighter 2 II turbo super nintendo snes ...</td>\n",
              "      <td>[]</td>\n",
              "      <td></td>\n",
              "      <td>Nintendo</td>\n",
              "      <td>[]</td>\n",
              "      <td>[&gt;#134,433 in Video Games (See Top 100 in Vide...</td>\n",
              "      <td>[]</td>\n",
              "      <td>Video Games</td>\n",
              "      <td></td>\n",
              "      <td></td>\n",
              "      <td>$0.72</td>\n",
              "      <td>0276425316</td>\n",
              "      <td>[]</td>\n",
              "      <td>[]</td>\n",
              "      <td>NaN</td>\n",
              "    </tr>\n",
              "    <tr>\n",
              "      <th>3</th>\n",
              "      <td>[Video Games, Xbox 360, Accessories, Controlle...</td>\n",
              "      <td></td>\n",
              "      <td>[MAS's Pro Xbox 360 Stick (Perfect 360 Stick) ...</td>\n",
              "      <td></td>\n",
              "      <td>Xbox 360 MAS STICK</td>\n",
              "      <td>[]</td>\n",
              "      <td></td>\n",
              "      <td>by\\n    \\n    MAS SYSTEMS</td>\n",
              "      <td>[Original PCB used from Xbox 360 Control Pad (...</td>\n",
              "      <td>[&gt;#105,263 in Video Games (See Top 100 in Vide...</td>\n",
              "      <td>[]</td>\n",
              "      <td>Video Games</td>\n",
              "      <td></td>\n",
              "      <td></td>\n",
              "      <td></td>\n",
              "      <td>0324411812</td>\n",
              "      <td>[https://images-na.ssl-images-amazon.com/image...</td>\n",
              "      <td>[https://images-na.ssl-images-amazon.com/image...</td>\n",
              "      <td>NaN</td>\n",
              "    </tr>\n",
              "    <tr>\n",
              "      <th>4</th>\n",
              "      <td>[Video Games, PC, Games, &lt;/span&gt;&lt;/span&gt;&lt;/span&gt;...</td>\n",
              "      <td></td>\n",
              "      <td>[Phonics Alive! 3, The Speller teaches student...</td>\n",
              "      <td></td>\n",
              "      <td>Phonics Alive! 3: The Speller</td>\n",
              "      <td>[]</td>\n",
              "      <td></td>\n",
              "      <td>by\\n    \\n    Advanced Software Pty. Ltd.</td>\n",
              "      <td>[Grades 2-12, Spelling Program, Teaches Spelli...</td>\n",
              "      <td>[&gt;#92,397 in Video Games (See Top 100 in Video...</td>\n",
              "      <td>[B000BCZ7U0]</td>\n",
              "      <td>Video Games</td>\n",
              "      <td></td>\n",
              "      <td></td>\n",
              "      <td></td>\n",
              "      <td>0439335310</td>\n",
              "      <td>[https://images-na.ssl-images-amazon.com/image...</td>\n",
              "      <td>[https://images-na.ssl-images-amazon.com/image...</td>\n",
              "      <td>NaN</td>\n",
              "    </tr>\n",
              "  </tbody>\n",
              "</table>\n",
              "</div>\n",
              "      <button class=\"colab-df-convert\" onclick=\"convertToInteractive('df-9534ab9a-c324-48b7-9e46-180f647e4e0d')\"\n",
              "              title=\"Convert this dataframe to an interactive table.\"\n",
              "              style=\"display:none;\">\n",
              "        \n",
              "  <svg xmlns=\"http://www.w3.org/2000/svg\" height=\"24px\"viewBox=\"0 0 24 24\"\n",
              "       width=\"24px\">\n",
              "    <path d=\"M0 0h24v24H0V0z\" fill=\"none\"/>\n",
              "    <path d=\"M18.56 5.44l.94 2.06.94-2.06 2.06-.94-2.06-.94-.94-2.06-.94 2.06-2.06.94zm-11 1L8.5 8.5l.94-2.06 2.06-.94-2.06-.94L8.5 2.5l-.94 2.06-2.06.94zm10 10l.94 2.06.94-2.06 2.06-.94-2.06-.94-.94-2.06-.94 2.06-2.06.94z\"/><path d=\"M17.41 7.96l-1.37-1.37c-.4-.4-.92-.59-1.43-.59-.52 0-1.04.2-1.43.59L10.3 9.45l-7.72 7.72c-.78.78-.78 2.05 0 2.83L4 21.41c.39.39.9.59 1.41.59.51 0 1.02-.2 1.41-.59l7.78-7.78 2.81-2.81c.8-.78.8-2.07 0-2.86zM5.41 20L4 18.59l7.72-7.72 1.47 1.35L5.41 20z\"/>\n",
              "  </svg>\n",
              "      </button>\n",
              "      \n",
              "  <style>\n",
              "    .colab-df-container {\n",
              "      display:flex;\n",
              "      flex-wrap:wrap;\n",
              "      gap: 12px;\n",
              "    }\n",
              "\n",
              "    .colab-df-convert {\n",
              "      background-color: #E8F0FE;\n",
              "      border: none;\n",
              "      border-radius: 50%;\n",
              "      cursor: pointer;\n",
              "      display: none;\n",
              "      fill: #1967D2;\n",
              "      height: 32px;\n",
              "      padding: 0 0 0 0;\n",
              "      width: 32px;\n",
              "    }\n",
              "\n",
              "    .colab-df-convert:hover {\n",
              "      background-color: #E2EBFA;\n",
              "      box-shadow: 0px 1px 2px rgba(60, 64, 67, 0.3), 0px 1px 3px 1px rgba(60, 64, 67, 0.15);\n",
              "      fill: #174EA6;\n",
              "    }\n",
              "\n",
              "    [theme=dark] .colab-df-convert {\n",
              "      background-color: #3B4455;\n",
              "      fill: #D2E3FC;\n",
              "    }\n",
              "\n",
              "    [theme=dark] .colab-df-convert:hover {\n",
              "      background-color: #434B5C;\n",
              "      box-shadow: 0px 1px 3px 1px rgba(0, 0, 0, 0.15);\n",
              "      filter: drop-shadow(0px 1px 2px rgba(0, 0, 0, 0.3));\n",
              "      fill: #FFFFFF;\n",
              "    }\n",
              "  </style>\n",
              "\n",
              "      <script>\n",
              "        const buttonEl =\n",
              "          document.querySelector('#df-9534ab9a-c324-48b7-9e46-180f647e4e0d button.colab-df-convert');\n",
              "        buttonEl.style.display =\n",
              "          google.colab.kernel.accessAllowed ? 'block' : 'none';\n",
              "\n",
              "        async function convertToInteractive(key) {\n",
              "          const element = document.querySelector('#df-9534ab9a-c324-48b7-9e46-180f647e4e0d');\n",
              "          const dataTable =\n",
              "            await google.colab.kernel.invokeFunction('convertToInteractive',\n",
              "                                                     [key], {});\n",
              "          if (!dataTable) return;\n",
              "\n",
              "          const docLinkHtml = 'Like what you see? Visit the ' +\n",
              "            '<a target=\"_blank\" href=https://colab.research.google.com/notebooks/data_table.ipynb>data table notebook</a>'\n",
              "            + ' to learn more about interactive tables.';\n",
              "          element.innerHTML = '';\n",
              "          dataTable['output_type'] = 'display_data';\n",
              "          await google.colab.output.renderOutput(dataTable, element);\n",
              "          const docLink = document.createElement('div');\n",
              "          docLink.innerHTML = docLinkHtml;\n",
              "          element.appendChild(docLink);\n",
              "        }\n",
              "      </script>\n",
              "    </div>\n",
              "  </div>\n",
              "  "
            ]
          },
          "metadata": {},
          "execution_count": 8
        }
      ],
      "source": [
        "metavg.head()"
      ]
    },
    {
      "cell_type": "code",
      "execution_count": null,
      "metadata": {
        "colab": {
          "base_uri": "https://localhost:8080/",
          "height": 206
        },
        "id": "MWBHvtzdyma1",
        "outputId": "70769cb6-12b1-4a3c-bb59-fed163d12dcb"
      },
      "outputs": [
        {
          "output_type": "execute_result",
          "data": {
            "text/plain": [
              "   overall   reviewTime      reviewerID        asin  \\\n",
              "0        1   01 2, 2018  A16FEXIKAPT24U  B00000JRSB   \n",
              "1        5   01 2, 2018  A3ISBEPYLY8IMO  B00000JRSB   \n",
              "2        5  12 21, 2017  A1RIUB1PZWLOVZ  B00000JRSB   \n",
              "3        5  12 20, 2017  A2VY0K54SOCG0F  B00000JRSB   \n",
              "4        5  12 19, 2017  A1ABJQ2REV14OQ  B00000JRSB   \n",
              "\n",
              "                        style     reviewerName  \\\n",
              "0  {'Format:': ' Video Game'}   Nicholas Sabin   \n",
              "1  {'Format:': ' Video Game'}            Jimmy   \n",
              "2  {'Format:': ' Video Game'}  Amazon Customer   \n",
              "3  {'Format:': ' Video Game'}     Oscentatious   \n",
              "4  {'Format:': ' Video Game'}           Thiago   \n",
              "\n",
              "                                          reviewText  \\\n",
              "0            Game disc was cracked thats pretty lame   \n",
              "1  Received this in perfect condition. Great rese...   \n",
              "2  I had a hard time finding this game locally or...   \n",
              "3  This game is just as amazing as the first time...   \n",
              "4  I bought as a gift for my friend, she is so ex...   \n",
              "\n",
              "                                             summary  unixReviewTime  \\\n",
              "0                            Game disc 1 was cracked      1514851200   \n",
              "1  Received this in perfect condition. Great rese...      1514851200   \n",
              "2               I am very pleased with this purchase      1513814400   \n",
              "3                This is the best deal for this game      1513728000   \n",
              "4                            Loved by lots of people      1513641600   \n",
              "\n",
              "   verified vote image  \n",
              "0       NaN  NaN   NaN  \n",
              "1       1.0  NaN   NaN  \n",
              "2       1.0  NaN   NaN  \n",
              "3       0.0  NaN   NaN  \n",
              "4       1.0  NaN   NaN  "
            ],
            "text/html": [
              "\n",
              "  <div id=\"df-cf7b2680-7c21-438c-b010-afd0a8fc3062\">\n",
              "    <div class=\"colab-df-container\">\n",
              "      <div>\n",
              "<style scoped>\n",
              "    .dataframe tbody tr th:only-of-type {\n",
              "        vertical-align: middle;\n",
              "    }\n",
              "\n",
              "    .dataframe tbody tr th {\n",
              "        vertical-align: top;\n",
              "    }\n",
              "\n",
              "    .dataframe thead th {\n",
              "        text-align: right;\n",
              "    }\n",
              "</style>\n",
              "<table border=\"1\" class=\"dataframe\">\n",
              "  <thead>\n",
              "    <tr style=\"text-align: right;\">\n",
              "      <th></th>\n",
              "      <th>overall</th>\n",
              "      <th>reviewTime</th>\n",
              "      <th>reviewerID</th>\n",
              "      <th>asin</th>\n",
              "      <th>style</th>\n",
              "      <th>reviewerName</th>\n",
              "      <th>reviewText</th>\n",
              "      <th>summary</th>\n",
              "      <th>unixReviewTime</th>\n",
              "      <th>verified</th>\n",
              "      <th>vote</th>\n",
              "      <th>image</th>\n",
              "    </tr>\n",
              "  </thead>\n",
              "  <tbody>\n",
              "    <tr>\n",
              "      <th>0</th>\n",
              "      <td>1</td>\n",
              "      <td>01 2, 2018</td>\n",
              "      <td>A16FEXIKAPT24U</td>\n",
              "      <td>B00000JRSB</td>\n",
              "      <td>{'Format:': ' Video Game'}</td>\n",
              "      <td>Nicholas Sabin</td>\n",
              "      <td>Game disc was cracked thats pretty lame</td>\n",
              "      <td>Game disc 1 was cracked</td>\n",
              "      <td>1514851200</td>\n",
              "      <td>NaN</td>\n",
              "      <td>NaN</td>\n",
              "      <td>NaN</td>\n",
              "    </tr>\n",
              "    <tr>\n",
              "      <th>1</th>\n",
              "      <td>5</td>\n",
              "      <td>01 2, 2018</td>\n",
              "      <td>A3ISBEPYLY8IMO</td>\n",
              "      <td>B00000JRSB</td>\n",
              "      <td>{'Format:': ' Video Game'}</td>\n",
              "      <td>Jimmy</td>\n",
              "      <td>Received this in perfect condition. Great rese...</td>\n",
              "      <td>Received this in perfect condition. Great rese...</td>\n",
              "      <td>1514851200</td>\n",
              "      <td>1.0</td>\n",
              "      <td>NaN</td>\n",
              "      <td>NaN</td>\n",
              "    </tr>\n",
              "    <tr>\n",
              "      <th>2</th>\n",
              "      <td>5</td>\n",
              "      <td>12 21, 2017</td>\n",
              "      <td>A1RIUB1PZWLOVZ</td>\n",
              "      <td>B00000JRSB</td>\n",
              "      <td>{'Format:': ' Video Game'}</td>\n",
              "      <td>Amazon Customer</td>\n",
              "      <td>I had a hard time finding this game locally or...</td>\n",
              "      <td>I am very pleased with this purchase</td>\n",
              "      <td>1513814400</td>\n",
              "      <td>1.0</td>\n",
              "      <td>NaN</td>\n",
              "      <td>NaN</td>\n",
              "    </tr>\n",
              "    <tr>\n",
              "      <th>3</th>\n",
              "      <td>5</td>\n",
              "      <td>12 20, 2017</td>\n",
              "      <td>A2VY0K54SOCG0F</td>\n",
              "      <td>B00000JRSB</td>\n",
              "      <td>{'Format:': ' Video Game'}</td>\n",
              "      <td>Oscentatious</td>\n",
              "      <td>This game is just as amazing as the first time...</td>\n",
              "      <td>This is the best deal for this game</td>\n",
              "      <td>1513728000</td>\n",
              "      <td>0.0</td>\n",
              "      <td>NaN</td>\n",
              "      <td>NaN</td>\n",
              "    </tr>\n",
              "    <tr>\n",
              "      <th>4</th>\n",
              "      <td>5</td>\n",
              "      <td>12 19, 2017</td>\n",
              "      <td>A1ABJQ2REV14OQ</td>\n",
              "      <td>B00000JRSB</td>\n",
              "      <td>{'Format:': ' Video Game'}</td>\n",
              "      <td>Thiago</td>\n",
              "      <td>I bought as a gift for my friend, she is so ex...</td>\n",
              "      <td>Loved by lots of people</td>\n",
              "      <td>1513641600</td>\n",
              "      <td>1.0</td>\n",
              "      <td>NaN</td>\n",
              "      <td>NaN</td>\n",
              "    </tr>\n",
              "  </tbody>\n",
              "</table>\n",
              "</div>\n",
              "      <button class=\"colab-df-convert\" onclick=\"convertToInteractive('df-cf7b2680-7c21-438c-b010-afd0a8fc3062')\"\n",
              "              title=\"Convert this dataframe to an interactive table.\"\n",
              "              style=\"display:none;\">\n",
              "        \n",
              "  <svg xmlns=\"http://www.w3.org/2000/svg\" height=\"24px\"viewBox=\"0 0 24 24\"\n",
              "       width=\"24px\">\n",
              "    <path d=\"M0 0h24v24H0V0z\" fill=\"none\"/>\n",
              "    <path d=\"M18.56 5.44l.94 2.06.94-2.06 2.06-.94-2.06-.94-.94-2.06-.94 2.06-2.06.94zm-11 1L8.5 8.5l.94-2.06 2.06-.94-2.06-.94L8.5 2.5l-.94 2.06-2.06.94zm10 10l.94 2.06.94-2.06 2.06-.94-2.06-.94-.94-2.06-.94 2.06-2.06.94z\"/><path d=\"M17.41 7.96l-1.37-1.37c-.4-.4-.92-.59-1.43-.59-.52 0-1.04.2-1.43.59L10.3 9.45l-7.72 7.72c-.78.78-.78 2.05 0 2.83L4 21.41c.39.39.9.59 1.41.59.51 0 1.02-.2 1.41-.59l7.78-7.78 2.81-2.81c.8-.78.8-2.07 0-2.86zM5.41 20L4 18.59l7.72-7.72 1.47 1.35L5.41 20z\"/>\n",
              "  </svg>\n",
              "      </button>\n",
              "      \n",
              "  <style>\n",
              "    .colab-df-container {\n",
              "      display:flex;\n",
              "      flex-wrap:wrap;\n",
              "      gap: 12px;\n",
              "    }\n",
              "\n",
              "    .colab-df-convert {\n",
              "      background-color: #E8F0FE;\n",
              "      border: none;\n",
              "      border-radius: 50%;\n",
              "      cursor: pointer;\n",
              "      display: none;\n",
              "      fill: #1967D2;\n",
              "      height: 32px;\n",
              "      padding: 0 0 0 0;\n",
              "      width: 32px;\n",
              "    }\n",
              "\n",
              "    .colab-df-convert:hover {\n",
              "      background-color: #E2EBFA;\n",
              "      box-shadow: 0px 1px 2px rgba(60, 64, 67, 0.3), 0px 1px 3px 1px rgba(60, 64, 67, 0.15);\n",
              "      fill: #174EA6;\n",
              "    }\n",
              "\n",
              "    [theme=dark] .colab-df-convert {\n",
              "      background-color: #3B4455;\n",
              "      fill: #D2E3FC;\n",
              "    }\n",
              "\n",
              "    [theme=dark] .colab-df-convert:hover {\n",
              "      background-color: #434B5C;\n",
              "      box-shadow: 0px 1px 3px 1px rgba(0, 0, 0, 0.15);\n",
              "      filter: drop-shadow(0px 1px 2px rgba(0, 0, 0, 0.3));\n",
              "      fill: #FFFFFF;\n",
              "    }\n",
              "  </style>\n",
              "\n",
              "      <script>\n",
              "        const buttonEl =\n",
              "          document.querySelector('#df-cf7b2680-7c21-438c-b010-afd0a8fc3062 button.colab-df-convert');\n",
              "        buttonEl.style.display =\n",
              "          google.colab.kernel.accessAllowed ? 'block' : 'none';\n",
              "\n",
              "        async function convertToInteractive(key) {\n",
              "          const element = document.querySelector('#df-cf7b2680-7c21-438c-b010-afd0a8fc3062');\n",
              "          const dataTable =\n",
              "            await google.colab.kernel.invokeFunction('convertToInteractive',\n",
              "                                                     [key], {});\n",
              "          if (!dataTable) return;\n",
              "\n",
              "          const docLinkHtml = 'Like what you see? Visit the ' +\n",
              "            '<a target=\"_blank\" href=https://colab.research.google.com/notebooks/data_table.ipynb>data table notebook</a>'\n",
              "            + ' to learn more about interactive tables.';\n",
              "          element.innerHTML = '';\n",
              "          dataTable['output_type'] = 'display_data';\n",
              "          await google.colab.output.renderOutput(dataTable, element);\n",
              "          const docLink = document.createElement('div');\n",
              "          docLink.innerHTML = docLinkHtml;\n",
              "          element.appendChild(docLink);\n",
              "        }\n",
              "      </script>\n",
              "    </div>\n",
              "  </div>\n",
              "  "
            ]
          },
          "metadata": {},
          "execution_count": 9
        }
      ],
      "source": [
        "videogame.head()"
      ]
    },
    {
      "cell_type": "code",
      "execution_count": null,
      "metadata": {
        "colab": {
          "base_uri": "https://localhost:8080/"
        },
        "id": "iAigYTn14KlQ",
        "outputId": "36d58b75-b9a6-4632-91ee-776c43864758"
      },
      "outputs": [
        {
          "output_type": "execute_result",
          "data": {
            "text/plain": [
              "category           object\n",
              "tech1              object\n",
              "description        object\n",
              "fit                object\n",
              "title              object\n",
              "also_buy           object\n",
              "tech2              object\n",
              "brand              object\n",
              "feature            object\n",
              "rank               object\n",
              "also_view          object\n",
              "main_cat           object\n",
              "similar_item       object\n",
              "date               object\n",
              "price              object\n",
              "asin               object\n",
              "imageURL           object\n",
              "imageURLHighRes    object\n",
              "details            object\n",
              "dtype: object"
            ]
          },
          "metadata": {},
          "execution_count": 10
        }
      ],
      "source": [
        "metavg.dtypes"
      ]
    },
    {
      "cell_type": "code",
      "execution_count": null,
      "metadata": {
        "colab": {
          "base_uri": "https://localhost:8080/"
        },
        "id": "cKAMAjtx43kw",
        "outputId": "d1701717-d1e5-4209-be4d-36199e8300a8"
      },
      "outputs": [
        {
          "output_type": "execute_result",
          "data": {
            "text/plain": [
              "category             0\n",
              "tech1                0\n",
              "description          0\n",
              "fit                  0\n",
              "title                0\n",
              "also_buy             0\n",
              "tech2                0\n",
              "brand                0\n",
              "feature              0\n",
              "rank                 0\n",
              "also_view            0\n",
              "main_cat             0\n",
              "similar_item         0\n",
              "date                 0\n",
              "price                0\n",
              "asin                 0\n",
              "imageURL             0\n",
              "imageURLHighRes      0\n",
              "details            107\n",
              "dtype: int64"
            ]
          },
          "metadata": {},
          "execution_count": 11
        }
      ],
      "source": [
        "metavg.isnull().sum()"
      ]
    },
    {
      "cell_type": "code",
      "execution_count": null,
      "metadata": {
        "colab": {
          "base_uri": "https://localhost:8080/"
        },
        "id": "0EwN7AQB4M9J",
        "outputId": "be531cd0-831f-4654-915c-cd328bdc8e2a"
      },
      "outputs": [
        {
          "output_type": "execute_result",
          "data": {
            "text/plain": [
              "overall             int64\n",
              "reviewTime         object\n",
              "reviewerID         object\n",
              "asin               object\n",
              "style              object\n",
              "reviewerName       object\n",
              "reviewText         object\n",
              "summary            object\n",
              "unixReviewTime      int64\n",
              "verified          float64\n",
              "vote               object\n",
              "image              object\n",
              "dtype: object"
            ]
          },
          "metadata": {},
          "execution_count": 12
        }
      ],
      "source": [
        "videogame.dtypes"
      ]
    },
    {
      "cell_type": "code",
      "execution_count": null,
      "metadata": {
        "colab": {
          "base_uri": "https://localhost:8080/"
        },
        "id": "gfzIlqzN5DA9",
        "outputId": "bfe29ad0-0f83-4be7-fee4-77f2f852572a"
      },
      "outputs": [
        {
          "output_type": "execute_result",
          "data": {
            "text/plain": [
              "overall                0\n",
              "reviewTime             0\n",
              "reviewerID             0\n",
              "asin                   0\n",
              "style             135402\n",
              "reviewerName          51\n",
              "reviewText           345\n",
              "summary              166\n",
              "unixReviewTime         0\n",
              "verified           69016\n",
              "vote              396439\n",
              "image             448911\n",
              "dtype: int64"
            ]
          },
          "metadata": {},
          "execution_count": 13
        }
      ],
      "source": [
        "videogame.isnull().sum()"
      ]
    },
    {
      "cell_type": "code",
      "execution_count": null,
      "metadata": {
        "id": "kPYLdPT9ANKC"
      },
      "outputs": [],
      "source": [
        "videogame['reviewText'].fillna('Not review', inplace=True)\n",
        "videogame['reviewerName'].fillna('No reviewer', inplace=True)\n",
        "videogame['summary'].fillna('No summary', inplace=True)"
      ]
    },
    {
      "cell_type": "code",
      "execution_count": null,
      "metadata": {
        "colab": {
          "base_uri": "https://localhost:8080/"
        },
        "id": "VfWfw-N_BGsC",
        "outputId": "78b607bf-5f70-45d7-c6dd-e0bb6dc640f9"
      },
      "outputs": [
        {
          "output_type": "execute_result",
          "data": {
            "text/plain": [
              "overall                0\n",
              "reviewTime             0\n",
              "reviewerID             0\n",
              "asin                   0\n",
              "style             135402\n",
              "reviewerName           0\n",
              "reviewText             0\n",
              "summary                0\n",
              "unixReviewTime         0\n",
              "verified           69016\n",
              "vote              396439\n",
              "image             448911\n",
              "dtype: int64"
            ]
          },
          "metadata": {},
          "execution_count": 15
        }
      ],
      "source": [
        "videogame.isnull().sum()"
      ]
    },
    {
      "cell_type": "markdown",
      "metadata": {
        "id": "p3MnnxnjOGvb"
      },
      "source": [
        "# Fazendo backups"
      ]
    },
    {
      "cell_type": "code",
      "execution_count": null,
      "metadata": {
        "id": "RIcksY0yOLPA"
      },
      "outputs": [],
      "source": [
        "backup = videogame.copy()"
      ]
    },
    {
      "cell_type": "code",
      "execution_count": null,
      "metadata": {
        "id": "U9UFCzhhO3Cs"
      },
      "outputs": [],
      "source": [
        "videogame = backup.copy()"
      ]
    },
    {
      "cell_type": "markdown",
      "metadata": {
        "id": "y8eVKj70O9OF"
      },
      "source": [
        "# 3. IMPLEMENTANDO O MODELO DE CLASSIFICAÇÃO"
      ]
    },
    {
      "cell_type": "code",
      "execution_count": null,
      "metadata": {
        "id": "hfkyQGq0PBm3"
      },
      "outputs": [],
      "source": [
        "videogame.drop(columns=['vote','image',],inplace=True)"
      ]
    },
    {
      "cell_type": "code",
      "execution_count": null,
      "metadata": {
        "id": "99oyayN6QCBz"
      },
      "outputs": [],
      "source": [
        "# o modelo ira preencher as colunas style verified\n",
        "dfclass = videogame[['overall','verified','unixReviewTime']].dropna()"
      ]
    },
    {
      "cell_type": "code",
      "execution_count": null,
      "metadata": {
        "id": "0zQ0EDzFTaRG"
      },
      "outputs": [],
      "source": [
        "X = dfclass.drop(columns=['verified'])\n",
        "Y = dfclass[['verified']]"
      ]
    },
    {
      "cell_type": "code",
      "execution_count": null,
      "metadata": {
        "id": "MU1a-nCWW4BZ"
      },
      "outputs": [],
      "source": [
        "X_train, X_test, y_train, y_test = train_test_split(X, Y, test_size=0.2, random_state=42)"
      ]
    },
    {
      "cell_type": "markdown",
      "metadata": {
        "id": "DN829b59W_te"
      },
      "source": [
        "# 3.1 KNN"
      ]
    },
    {
      "cell_type": "code",
      "execution_count": null,
      "metadata": {
        "id": "foBcrnUoW6WY"
      },
      "outputs": [],
      "source": [
        " resultados = {'' : ['KNN','Random Forest','Logistic Regression', 'XgBoosting'],\n",
        "               'Accuracy' : [],\n",
        "               'Precision' : [],\n",
        "               'Recall' : [],\n",
        "               'F1-Score' : [],}"
      ]
    },
    {
      "cell_type": "code",
      "execution_count": null,
      "metadata": {
        "colab": {
          "base_uri": "https://localhost:8080/"
        },
        "id": "pC0dfuVzauKJ",
        "outputId": "76d6d5c4-ab7d-4fbb-b94c-c4fec7b1e14d"
      },
      "outputs": [
        {
          "output_type": "execute_result",
          "data": {
            "text/plain": [
              "GridSearchCV(cv=5, estimator=KNeighborsClassifier(),\n",
              "             param_grid={'n_neighbors': [5, 6, 7, 10]}, scoring='f1')"
            ]
          },
          "metadata": {},
          "execution_count": 23
        }
      ],
      "source": [
        "params = {\n",
        "    'n_neighbors' : [5, 6, 7, 10]\n",
        "}\n",
        "\n",
        "clf = GridSearchCV(KNeighborsClassifier(), param_grid=params, scoring='f1', cv=5)\n",
        "clf.fit(X_train, y_train)"
      ]
    },
    {
      "cell_type": "code",
      "execution_count": null,
      "metadata": {
        "id": "Wxbuyk8yfEGJ"
      },
      "outputs": [],
      "source": [
        "y_pred = clf.predict(X_test)\n",
        "\n",
        "resultados['Accuracy'].append(accuracy_score(y_test, y_pred))\n",
        "resultados['Precision'].append(precision_score(y_test, y_pred))\n",
        "resultados['Recall'].append(recall_score(y_test, y_pred))\n",
        "resultados['F1-Score'].append(f1_score(y_test, y_pred))\n"
      ]
    },
    {
      "cell_type": "code",
      "execution_count": null,
      "metadata": {
        "id": "Bbut30pdf7_g"
      },
      "outputs": [],
      "source": [
        "clf_knn=clf.best_estimator_"
      ]
    },
    {
      "cell_type": "markdown",
      "metadata": {
        "id": "txM1WtjnhzyJ"
      },
      "source": [
        "#3.2 Random Forest"
      ]
    },
    {
      "cell_type": "code",
      "execution_count": null,
      "metadata": {
        "colab": {
          "base_uri": "https://localhost:8080/"
        },
        "id": "J_i0le8Df8AS",
        "outputId": "8894b22d-a2f2-469f-ab3f-92a42fb9a22a"
      },
      "outputs": [
        {
          "output_type": "execute_result",
          "data": {
            "text/plain": [
              "GridSearchCV(cv=5, estimator=RandomForestClassifier(),\n",
              "             param_grid={'class_weight': [None, 'balanced'],\n",
              "                         'max_depth': [2, 5, 7],\n",
              "                         'n_estimators': [100, 200, 300]},\n",
              "             scoring='f1')"
            ]
          },
          "metadata": {},
          "execution_count": 26
        }
      ],
      "source": [
        "params = {\n",
        "    'max_depth' : [2,5,7],\n",
        "    'n_estimators' : [100,200,300],\n",
        "    'class_weight' : [None,'balanced']\n",
        "}\n",
        "\n",
        "clf = GridSearchCV(RandomForestClassifier(), param_grid=params, scoring='f1',cv=5)\n",
        "\n",
        "clf.fit(X_train, y_train)"
      ]
    },
    {
      "cell_type": "code",
      "execution_count": null,
      "metadata": {
        "id": "dYEuMzQ0AMuh"
      },
      "outputs": [],
      "source": [
        "clf_rf = clf.best_estimator_"
      ]
    },
    {
      "cell_type": "markdown",
      "metadata": {
        "id": "o_v548O9nEUz"
      },
      "source": [
        "# 3.3 Logistic Regression"
      ]
    },
    {
      "cell_type": "code",
      "execution_count": null,
      "metadata": {
        "colab": {
          "base_uri": "https://localhost:8080/"
        },
        "id": "nzNP8V0YnDHM",
        "outputId": "23c14c68-c3d1-4a90-cd9d-bc862f03df3f"
      },
      "outputs": [
        {
          "output_type": "execute_result",
          "data": {
            "text/plain": [
              "GridSearchCV(cv=5, estimator=LogisticRegression(),\n",
              "             param_grid={'C': [0.01, 0.1, 1],\n",
              "                         'class_weight': [None, 'balanced'],\n",
              "                         'penalty': ['l1', 'l2']},\n",
              "             scoring='f1')"
            ]
          },
          "metadata": {},
          "execution_count": 28
        }
      ],
      "source": [
        "params = {\n",
        "    'penalty' : ['l1', 'l2'],\n",
        "    'C' : [0.01, 0.1, 1],\n",
        "    'class_weight' : [None, 'balanced']\n",
        "}\n",
        "\n",
        "clf = GridSearchCV(LogisticRegression(), param_grid=params, scoring='f1',cv=5)\n",
        "\n",
        "clf.fit(X_train, y_train)"
      ]
    },
    {
      "cell_type": "code",
      "execution_count": null,
      "metadata": {
        "id": "BMJjqefFwu3s"
      },
      "outputs": [],
      "source": [
        "y_pred = clf.predict(X_test)\n",
        "\n",
        "resultados['Accuracy'].append(accuracy_score(y_test, y_pred))\n",
        "resultados['Precision'].append(precision_score(y_test, y_pred))\n",
        "resultados['Recall'].append(recall_score(y_test, y_pred))\n",
        "resultados['F1-Score'].append(f1_score(y_test, y_pred))"
      ]
    },
    {
      "cell_type": "code",
      "execution_count": null,
      "metadata": {
        "id": "JWCKqurB0AZM"
      },
      "outputs": [],
      "source": [
        "clf_lg = clf.best_estimator_"
      ]
    },
    {
      "cell_type": "markdown",
      "metadata": {
        "id": "zboPe8Vv0pU7"
      },
      "source": [
        "# 3.4 XgBoosting"
      ]
    },
    {
      "cell_type": "code",
      "execution_count": null,
      "metadata": {
        "colab": {
          "base_uri": "https://localhost:8080/"
        },
        "id": "AoZ2vZri0CdV",
        "outputId": "ed243a68-d4eb-47d5-c01b-0154eb24617c"
      },
      "outputs": [
        {
          "output_type": "execute_result",
          "data": {
            "text/plain": [
              "GridSearchCV(cv=5, estimator=XGBClassifier(),\n",
              "             param_grid={'gamma': [0, 0.01, 0.1], 'max_depth': [6, 7, 8, 9]},\n",
              "             scoring='f1')"
            ]
          },
          "metadata": {},
          "execution_count": 31
        }
      ],
      "source": [
        "params = {\n",
        "    'max_depth' : [6,7,8,9],\n",
        "    'gamma' : [0, 0.01, 0.1]\n",
        "    \n",
        "}\n",
        "\n",
        "clf = GridSearchCV(XGBClassifier(), param_grid=params, scoring='f1',cv=5)\n",
        "\n",
        "clf.fit(X_train, y_train)"
      ]
    },
    {
      "cell_type": "code",
      "execution_count": null,
      "metadata": {
        "id": "F1FWGyw32Quz"
      },
      "outputs": [],
      "source": [
        "y_pred = clf.predict(X_test)\n",
        "\n",
        "resultados['Accuracy'].append(accuracy_score(y_test, y_pred))\n",
        "resultados['Precision'].append(precision_score(y_test, y_pred))\n",
        "resultados['Recall'].append(recall_score(y_test, y_pred))\n",
        "resultados['F1-Score'].append(f1_score(y_test, y_pred))\n"
      ]
    },
    {
      "cell_type": "code",
      "execution_count": null,
      "metadata": {
        "id": "NWESSUg76OlA"
      },
      "outputs": [],
      "source": [
        "clf_lg = clf.best_estimator_\n"
      ]
    },
    {
      "cell_type": "code",
      "execution_count": null,
      "metadata": {
        "colab": {
          "base_uri": "https://localhost:8080/"
        },
        "id": "uwyzVGbO6j8Z",
        "outputId": "442488c3-3b95-4776-fb89-dfa2e463f177"
      },
      "outputs": [
        {
          "output_type": "stream",
          "name": "stdout",
          "text": [
            "{'': ['KNN', 'Random Forest', 'Logistic Regression', 'XgBoosting'], 'Accuracy': [0.8513847354050188, 0.8162397607593291, 0.8609153556104537], 'Precision': [0.8695145295700859, 0.8162397607593291, 0.8675681779684942], 'Recall': [0.9623428962836708, 1.0, 0.9790528378227695], 'F1-Score': [0.9135766997338496, 0.8988237989218754, 0.9199452181917513]}\n"
          ]
        }
      ],
      "source": [
        "print(resultados)"
      ]
    },
    {
      "cell_type": "markdown",
      "metadata": {
        "id": "iqUp7gyTSYiu"
      },
      "source": [
        "# 4.1 O RECALL NO RANDOM FOREST FOI MAIOR PORTANTO O USAREMOS."
      ]
    },
    {
      "cell_type": "code",
      "execution_count": null,
      "metadata": {
        "id": "LcZCUHicO72o"
      },
      "outputs": [],
      "source": [
        "dfnan = videogame[videogame['verified'].isnull()].reset_index().drop(columns=['index'])"
      ]
    },
    {
      "cell_type": "code",
      "execution_count": null,
      "metadata": {
        "id": "gFgxjtIz5LZ6"
      },
      "outputs": [],
      "source": [
        "X = dfnan.drop(columns=['verified', 'reviewTime', 'reviewerID','asin','style','reviewerName','reviewText','summary'])"
      ]
    },
    {
      "cell_type": "code",
      "execution_count": null,
      "metadata": {
        "colab": {
          "base_uri": "https://localhost:8080/",
          "height": 206
        },
        "id": "GWOib5d75L1k",
        "outputId": "66aefc50-dff0-4430-f59e-2c9b53969ec3"
      },
      "outputs": [
        {
          "output_type": "execute_result",
          "data": {
            "text/plain": [
              "   overall  unixReviewTime\n",
              "0        1      1514851200\n",
              "1        5      1503878400\n",
              "2        5      1502150400\n",
              "3        5      1495497600\n",
              "4        5      1492473600"
            ],
            "text/html": [
              "\n",
              "  <div id=\"df-d8a6ea87-1140-4387-b3b8-a7d9e054cfc8\">\n",
              "    <div class=\"colab-df-container\">\n",
              "      <div>\n",
              "<style scoped>\n",
              "    .dataframe tbody tr th:only-of-type {\n",
              "        vertical-align: middle;\n",
              "    }\n",
              "\n",
              "    .dataframe tbody tr th {\n",
              "        vertical-align: top;\n",
              "    }\n",
              "\n",
              "    .dataframe thead th {\n",
              "        text-align: right;\n",
              "    }\n",
              "</style>\n",
              "<table border=\"1\" class=\"dataframe\">\n",
              "  <thead>\n",
              "    <tr style=\"text-align: right;\">\n",
              "      <th></th>\n",
              "      <th>overall</th>\n",
              "      <th>unixReviewTime</th>\n",
              "    </tr>\n",
              "  </thead>\n",
              "  <tbody>\n",
              "    <tr>\n",
              "      <th>0</th>\n",
              "      <td>1</td>\n",
              "      <td>1514851200</td>\n",
              "    </tr>\n",
              "    <tr>\n",
              "      <th>1</th>\n",
              "      <td>5</td>\n",
              "      <td>1503878400</td>\n",
              "    </tr>\n",
              "    <tr>\n",
              "      <th>2</th>\n",
              "      <td>5</td>\n",
              "      <td>1502150400</td>\n",
              "    </tr>\n",
              "    <tr>\n",
              "      <th>3</th>\n",
              "      <td>5</td>\n",
              "      <td>1495497600</td>\n",
              "    </tr>\n",
              "    <tr>\n",
              "      <th>4</th>\n",
              "      <td>5</td>\n",
              "      <td>1492473600</td>\n",
              "    </tr>\n",
              "  </tbody>\n",
              "</table>\n",
              "</div>\n",
              "      <button class=\"colab-df-convert\" onclick=\"convertToInteractive('df-d8a6ea87-1140-4387-b3b8-a7d9e054cfc8')\"\n",
              "              title=\"Convert this dataframe to an interactive table.\"\n",
              "              style=\"display:none;\">\n",
              "        \n",
              "  <svg xmlns=\"http://www.w3.org/2000/svg\" height=\"24px\"viewBox=\"0 0 24 24\"\n",
              "       width=\"24px\">\n",
              "    <path d=\"M0 0h24v24H0V0z\" fill=\"none\"/>\n",
              "    <path d=\"M18.56 5.44l.94 2.06.94-2.06 2.06-.94-2.06-.94-.94-2.06-.94 2.06-2.06.94zm-11 1L8.5 8.5l.94-2.06 2.06-.94-2.06-.94L8.5 2.5l-.94 2.06-2.06.94zm10 10l.94 2.06.94-2.06 2.06-.94-2.06-.94-.94-2.06-.94 2.06-2.06.94z\"/><path d=\"M17.41 7.96l-1.37-1.37c-.4-.4-.92-.59-1.43-.59-.52 0-1.04.2-1.43.59L10.3 9.45l-7.72 7.72c-.78.78-.78 2.05 0 2.83L4 21.41c.39.39.9.59 1.41.59.51 0 1.02-.2 1.41-.59l7.78-7.78 2.81-2.81c.8-.78.8-2.07 0-2.86zM5.41 20L4 18.59l7.72-7.72 1.47 1.35L5.41 20z\"/>\n",
              "  </svg>\n",
              "      </button>\n",
              "      \n",
              "  <style>\n",
              "    .colab-df-container {\n",
              "      display:flex;\n",
              "      flex-wrap:wrap;\n",
              "      gap: 12px;\n",
              "    }\n",
              "\n",
              "    .colab-df-convert {\n",
              "      background-color: #E8F0FE;\n",
              "      border: none;\n",
              "      border-radius: 50%;\n",
              "      cursor: pointer;\n",
              "      display: none;\n",
              "      fill: #1967D2;\n",
              "      height: 32px;\n",
              "      padding: 0 0 0 0;\n",
              "      width: 32px;\n",
              "    }\n",
              "\n",
              "    .colab-df-convert:hover {\n",
              "      background-color: #E2EBFA;\n",
              "      box-shadow: 0px 1px 2px rgba(60, 64, 67, 0.3), 0px 1px 3px 1px rgba(60, 64, 67, 0.15);\n",
              "      fill: #174EA6;\n",
              "    }\n",
              "\n",
              "    [theme=dark] .colab-df-convert {\n",
              "      background-color: #3B4455;\n",
              "      fill: #D2E3FC;\n",
              "    }\n",
              "\n",
              "    [theme=dark] .colab-df-convert:hover {\n",
              "      background-color: #434B5C;\n",
              "      box-shadow: 0px 1px 3px 1px rgba(0, 0, 0, 0.15);\n",
              "      filter: drop-shadow(0px 1px 2px rgba(0, 0, 0, 0.3));\n",
              "      fill: #FFFFFF;\n",
              "    }\n",
              "  </style>\n",
              "\n",
              "      <script>\n",
              "        const buttonEl =\n",
              "          document.querySelector('#df-d8a6ea87-1140-4387-b3b8-a7d9e054cfc8 button.colab-df-convert');\n",
              "        buttonEl.style.display =\n",
              "          google.colab.kernel.accessAllowed ? 'block' : 'none';\n",
              "\n",
              "        async function convertToInteractive(key) {\n",
              "          const element = document.querySelector('#df-d8a6ea87-1140-4387-b3b8-a7d9e054cfc8');\n",
              "          const dataTable =\n",
              "            await google.colab.kernel.invokeFunction('convertToInteractive',\n",
              "                                                     [key], {});\n",
              "          if (!dataTable) return;\n",
              "\n",
              "          const docLinkHtml = 'Like what you see? Visit the ' +\n",
              "            '<a target=\"_blank\" href=https://colab.research.google.com/notebooks/data_table.ipynb>data table notebook</a>'\n",
              "            + ' to learn more about interactive tables.';\n",
              "          element.innerHTML = '';\n",
              "          dataTable['output_type'] = 'display_data';\n",
              "          await google.colab.output.renderOutput(dataTable, element);\n",
              "          const docLink = document.createElement('div');\n",
              "          docLink.innerHTML = docLinkHtml;\n",
              "          element.appendChild(docLink);\n",
              "        }\n",
              "      </script>\n",
              "    </div>\n",
              "  </div>\n",
              "  "
            ]
          },
          "metadata": {},
          "execution_count": 37
        }
      ],
      "source": [
        "X.head()"
      ]
    },
    {
      "cell_type": "code",
      "execution_count": null,
      "metadata": {
        "id": "AwEDNbvN_zlv"
      },
      "outputs": [],
      "source": [
        "dfnan['verified'] = clf_rf.predict(X)"
      ]
    },
    {
      "cell_type": "code",
      "execution_count": null,
      "metadata": {
        "id": "AVtJaMpdARBQ"
      },
      "outputs": [],
      "source": [
        "videogame.dropna(subset=['verified'],inplace=True)"
      ]
    },
    {
      "cell_type": "code",
      "execution_count": null,
      "metadata": {
        "colab": {
          "base_uri": "https://localhost:8080/"
        },
        "id": "fQnD_mQFN0t3",
        "outputId": "5b4672c4-b0fa-4569-b058-8538845ca1dd"
      },
      "outputs": [
        {
          "output_type": "execute_result",
          "data": {
            "text/plain": [
              "overall                0\n",
              "reviewTime             0\n",
              "reviewerID             0\n",
              "asin                   0\n",
              "style             114843\n",
              "reviewerName           0\n",
              "reviewText             0\n",
              "summary                0\n",
              "unixReviewTime         0\n",
              "verified               0\n",
              "dtype: int64"
            ]
          },
          "metadata": {},
          "execution_count": 40
        }
      ],
      "source": [
        "videogame.isnull().sum()"
      ]
    },
    {
      "cell_type": "code",
      "execution_count": null,
      "metadata": {
        "colab": {
          "base_uri": "https://localhost:8080/"
        },
        "id": "tu9dAgubOPWu",
        "outputId": "1ea9eb4c-030e-498e-e8d3-63c1f5d687c6"
      },
      "outputs": [
        {
          "output_type": "execute_result",
          "data": {
            "text/plain": [
              "overall                0\n",
              "reviewTime             0\n",
              "reviewerID             0\n",
              "asin                   0\n",
              "style             135402\n",
              "reviewerName           0\n",
              "reviewText             0\n",
              "summary                0\n",
              "unixReviewTime         0\n",
              "verified           69016\n",
              "vote              396439\n",
              "image             448911\n",
              "dtype: int64"
            ]
          },
          "metadata": {},
          "execution_count": 41
        }
      ],
      "source": [
        "backup.isnull().sum()"
      ]
    },
    {
      "cell_type": "code",
      "execution_count": null,
      "metadata": {
        "id": "Gd31JHFNSZ0T"
      },
      "outputs": [],
      "source": [
        "dfinal = pd.concat([videogame.reset_index().drop(columns=['index']),dfnan.reset_index().drop(columns=['index'])])"
      ]
    },
    {
      "cell_type": "code",
      "execution_count": null,
      "metadata": {
        "colab": {
          "base_uri": "https://localhost:8080/",
          "height": 206
        },
        "id": "DztsXqz7U4cy",
        "outputId": "02c26a15-1184-443c-91b6-278a49f2c3d6"
      },
      "outputs": [
        {
          "output_type": "execute_result",
          "data": {
            "text/plain": [
              "   overall   reviewTime      reviewerID        asin  \\\n",
              "0        5   01 2, 2018  A3ISBEPYLY8IMO  B00000JRSB   \n",
              "1        5  12 21, 2017  A1RIUB1PZWLOVZ  B00000JRSB   \n",
              "2        5  12 20, 2017  A2VY0K54SOCG0F  B00000JRSB   \n",
              "3        5  12 19, 2017  A1ABJQ2REV14OQ  B00000JRSB   \n",
              "4        5   12 9, 2017  A368DF2G0T502X  B00000JRSB   \n",
              "\n",
              "                        style     reviewerName  \\\n",
              "0  {'Format:': ' Video Game'}            Jimmy   \n",
              "1  {'Format:': ' Video Game'}  Amazon Customer   \n",
              "2  {'Format:': ' Video Game'}     Oscentatious   \n",
              "3  {'Format:': ' Video Game'}           Thiago   \n",
              "4  {'Format:': ' Video Game'}  Jonathan carter   \n",
              "\n",
              "                                          reviewText  \\\n",
              "0  Received this in perfect condition. Great rese...   \n",
              "1  I had a hard time finding this game locally or...   \n",
              "2  This game is just as amazing as the first time...   \n",
              "3  I bought as a gift for my friend, she is so ex...   \n",
              "4     Looks good, some scratches on discs but plays.   \n",
              "\n",
              "                                             summary  unixReviewTime  verified  \n",
              "0  Received this in perfect condition. Great rese...      1514851200       1.0  \n",
              "1               I am very pleased with this purchase      1513814400       1.0  \n",
              "2                This is the best deal for this game      1513728000       0.0  \n",
              "3                            Loved by lots of people      1513641600       1.0  \n",
              "4                                         Five Stars      1512777600       1.0  "
            ],
            "text/html": [
              "\n",
              "  <div id=\"df-2a5c7d59-45cc-4e37-8375-bbcf191726d0\">\n",
              "    <div class=\"colab-df-container\">\n",
              "      <div>\n",
              "<style scoped>\n",
              "    .dataframe tbody tr th:only-of-type {\n",
              "        vertical-align: middle;\n",
              "    }\n",
              "\n",
              "    .dataframe tbody tr th {\n",
              "        vertical-align: top;\n",
              "    }\n",
              "\n",
              "    .dataframe thead th {\n",
              "        text-align: right;\n",
              "    }\n",
              "</style>\n",
              "<table border=\"1\" class=\"dataframe\">\n",
              "  <thead>\n",
              "    <tr style=\"text-align: right;\">\n",
              "      <th></th>\n",
              "      <th>overall</th>\n",
              "      <th>reviewTime</th>\n",
              "      <th>reviewerID</th>\n",
              "      <th>asin</th>\n",
              "      <th>style</th>\n",
              "      <th>reviewerName</th>\n",
              "      <th>reviewText</th>\n",
              "      <th>summary</th>\n",
              "      <th>unixReviewTime</th>\n",
              "      <th>verified</th>\n",
              "    </tr>\n",
              "  </thead>\n",
              "  <tbody>\n",
              "    <tr>\n",
              "      <th>0</th>\n",
              "      <td>5</td>\n",
              "      <td>01 2, 2018</td>\n",
              "      <td>A3ISBEPYLY8IMO</td>\n",
              "      <td>B00000JRSB</td>\n",
              "      <td>{'Format:': ' Video Game'}</td>\n",
              "      <td>Jimmy</td>\n",
              "      <td>Received this in perfect condition. Great rese...</td>\n",
              "      <td>Received this in perfect condition. Great rese...</td>\n",
              "      <td>1514851200</td>\n",
              "      <td>1.0</td>\n",
              "    </tr>\n",
              "    <tr>\n",
              "      <th>1</th>\n",
              "      <td>5</td>\n",
              "      <td>12 21, 2017</td>\n",
              "      <td>A1RIUB1PZWLOVZ</td>\n",
              "      <td>B00000JRSB</td>\n",
              "      <td>{'Format:': ' Video Game'}</td>\n",
              "      <td>Amazon Customer</td>\n",
              "      <td>I had a hard time finding this game locally or...</td>\n",
              "      <td>I am very pleased with this purchase</td>\n",
              "      <td>1513814400</td>\n",
              "      <td>1.0</td>\n",
              "    </tr>\n",
              "    <tr>\n",
              "      <th>2</th>\n",
              "      <td>5</td>\n",
              "      <td>12 20, 2017</td>\n",
              "      <td>A2VY0K54SOCG0F</td>\n",
              "      <td>B00000JRSB</td>\n",
              "      <td>{'Format:': ' Video Game'}</td>\n",
              "      <td>Oscentatious</td>\n",
              "      <td>This game is just as amazing as the first time...</td>\n",
              "      <td>This is the best deal for this game</td>\n",
              "      <td>1513728000</td>\n",
              "      <td>0.0</td>\n",
              "    </tr>\n",
              "    <tr>\n",
              "      <th>3</th>\n",
              "      <td>5</td>\n",
              "      <td>12 19, 2017</td>\n",
              "      <td>A1ABJQ2REV14OQ</td>\n",
              "      <td>B00000JRSB</td>\n",
              "      <td>{'Format:': ' Video Game'}</td>\n",
              "      <td>Thiago</td>\n",
              "      <td>I bought as a gift for my friend, she is so ex...</td>\n",
              "      <td>Loved by lots of people</td>\n",
              "      <td>1513641600</td>\n",
              "      <td>1.0</td>\n",
              "    </tr>\n",
              "    <tr>\n",
              "      <th>4</th>\n",
              "      <td>5</td>\n",
              "      <td>12 9, 2017</td>\n",
              "      <td>A368DF2G0T502X</td>\n",
              "      <td>B00000JRSB</td>\n",
              "      <td>{'Format:': ' Video Game'}</td>\n",
              "      <td>Jonathan carter</td>\n",
              "      <td>Looks good, some scratches on discs but plays.</td>\n",
              "      <td>Five Stars</td>\n",
              "      <td>1512777600</td>\n",
              "      <td>1.0</td>\n",
              "    </tr>\n",
              "  </tbody>\n",
              "</table>\n",
              "</div>\n",
              "      <button class=\"colab-df-convert\" onclick=\"convertToInteractive('df-2a5c7d59-45cc-4e37-8375-bbcf191726d0')\"\n",
              "              title=\"Convert this dataframe to an interactive table.\"\n",
              "              style=\"display:none;\">\n",
              "        \n",
              "  <svg xmlns=\"http://www.w3.org/2000/svg\" height=\"24px\"viewBox=\"0 0 24 24\"\n",
              "       width=\"24px\">\n",
              "    <path d=\"M0 0h24v24H0V0z\" fill=\"none\"/>\n",
              "    <path d=\"M18.56 5.44l.94 2.06.94-2.06 2.06-.94-2.06-.94-.94-2.06-.94 2.06-2.06.94zm-11 1L8.5 8.5l.94-2.06 2.06-.94-2.06-.94L8.5 2.5l-.94 2.06-2.06.94zm10 10l.94 2.06.94-2.06 2.06-.94-2.06-.94-.94-2.06-.94 2.06-2.06.94z\"/><path d=\"M17.41 7.96l-1.37-1.37c-.4-.4-.92-.59-1.43-.59-.52 0-1.04.2-1.43.59L10.3 9.45l-7.72 7.72c-.78.78-.78 2.05 0 2.83L4 21.41c.39.39.9.59 1.41.59.51 0 1.02-.2 1.41-.59l7.78-7.78 2.81-2.81c.8-.78.8-2.07 0-2.86zM5.41 20L4 18.59l7.72-7.72 1.47 1.35L5.41 20z\"/>\n",
              "  </svg>\n",
              "      </button>\n",
              "      \n",
              "  <style>\n",
              "    .colab-df-container {\n",
              "      display:flex;\n",
              "      flex-wrap:wrap;\n",
              "      gap: 12px;\n",
              "    }\n",
              "\n",
              "    .colab-df-convert {\n",
              "      background-color: #E8F0FE;\n",
              "      border: none;\n",
              "      border-radius: 50%;\n",
              "      cursor: pointer;\n",
              "      display: none;\n",
              "      fill: #1967D2;\n",
              "      height: 32px;\n",
              "      padding: 0 0 0 0;\n",
              "      width: 32px;\n",
              "    }\n",
              "\n",
              "    .colab-df-convert:hover {\n",
              "      background-color: #E2EBFA;\n",
              "      box-shadow: 0px 1px 2px rgba(60, 64, 67, 0.3), 0px 1px 3px 1px rgba(60, 64, 67, 0.15);\n",
              "      fill: #174EA6;\n",
              "    }\n",
              "\n",
              "    [theme=dark] .colab-df-convert {\n",
              "      background-color: #3B4455;\n",
              "      fill: #D2E3FC;\n",
              "    }\n",
              "\n",
              "    [theme=dark] .colab-df-convert:hover {\n",
              "      background-color: #434B5C;\n",
              "      box-shadow: 0px 1px 3px 1px rgba(0, 0, 0, 0.15);\n",
              "      filter: drop-shadow(0px 1px 2px rgba(0, 0, 0, 0.3));\n",
              "      fill: #FFFFFF;\n",
              "    }\n",
              "  </style>\n",
              "\n",
              "      <script>\n",
              "        const buttonEl =\n",
              "          document.querySelector('#df-2a5c7d59-45cc-4e37-8375-bbcf191726d0 button.colab-df-convert');\n",
              "        buttonEl.style.display =\n",
              "          google.colab.kernel.accessAllowed ? 'block' : 'none';\n",
              "\n",
              "        async function convertToInteractive(key) {\n",
              "          const element = document.querySelector('#df-2a5c7d59-45cc-4e37-8375-bbcf191726d0');\n",
              "          const dataTable =\n",
              "            await google.colab.kernel.invokeFunction('convertToInteractive',\n",
              "                                                     [key], {});\n",
              "          if (!dataTable) return;\n",
              "\n",
              "          const docLinkHtml = 'Like what you see? Visit the ' +\n",
              "            '<a target=\"_blank\" href=https://colab.research.google.com/notebooks/data_table.ipynb>data table notebook</a>'\n",
              "            + ' to learn more about interactive tables.';\n",
              "          element.innerHTML = '';\n",
              "          dataTable['output_type'] = 'display_data';\n",
              "          await google.colab.output.renderOutput(dataTable, element);\n",
              "          const docLink = document.createElement('div');\n",
              "          docLink.innerHTML = docLinkHtml;\n",
              "          element.appendChild(docLink);\n",
              "        }\n",
              "      </script>\n",
              "    </div>\n",
              "  </div>\n",
              "  "
            ]
          },
          "metadata": {},
          "execution_count": 49
        }
      ],
      "source": [
        "dfinal.head()"
      ]
    },
    {
      "cell_type": "markdown",
      "source": [
        "# 4.2 RECOMENDAÇÃO"
      ],
      "metadata": {
        "id": "hgngklqJCxSP"
      }
    },
    {
      "cell_type": "code",
      "source": [
        "dprodutos = dfinal.groupby(by='asin', as_index=False) \\\n",
        "          .agg({'reviewerID' : pd.Series.nunique}) \\\n",
        "          .rename(columns = {'reviewerID' : 'Count_reviewerID'}) \\\n",
        "          .set_index('asin') \\\n",
        "          .sort_values('Count_reviewerID', ascending=False)"
      ],
      "metadata": {
        "id": "-4rXdPWTClOB"
      },
      "execution_count": null,
      "outputs": []
    },
    {
      "cell_type": "code",
      "source": [
        "dprodutos.head(10)"
      ],
      "metadata": {
        "colab": {
          "base_uri": "https://localhost:8080/",
          "height": 394
        },
        "id": "DKSG4zYyDKi2",
        "outputId": "3de99239-701c-4e3b-d225-200507ce4ace"
      },
      "execution_count": null,
      "outputs": [
        {
          "output_type": "execute_result",
          "data": {
            "text/plain": [
              "            Count_reviewerID\n",
              "asin                        \n",
              "B00HTK1NCS              5511\n",
              "B004RMK57U              4263\n",
              "B00178630A              3731\n",
              "B00KKAQYXM              3675\n",
              "B00JJNQG98              3364\n",
              "B003ZSP0WW              3362\n",
              "B00E4MQODC              2967\n",
              "B000B9RI14              2808\n",
              "B00DBDPOZ4              2715\n",
              "B0009VXBAQ              2667"
            ],
            "text/html": [
              "\n",
              "  <div id=\"df-14266327-1fb4-420c-abef-f66321475277\">\n",
              "    <div class=\"colab-df-container\">\n",
              "      <div>\n",
              "<style scoped>\n",
              "    .dataframe tbody tr th:only-of-type {\n",
              "        vertical-align: middle;\n",
              "    }\n",
              "\n",
              "    .dataframe tbody tr th {\n",
              "        vertical-align: top;\n",
              "    }\n",
              "\n",
              "    .dataframe thead th {\n",
              "        text-align: right;\n",
              "    }\n",
              "</style>\n",
              "<table border=\"1\" class=\"dataframe\">\n",
              "  <thead>\n",
              "    <tr style=\"text-align: right;\">\n",
              "      <th></th>\n",
              "      <th>Count_reviewerID</th>\n",
              "    </tr>\n",
              "    <tr>\n",
              "      <th>asin</th>\n",
              "      <th></th>\n",
              "    </tr>\n",
              "  </thead>\n",
              "  <tbody>\n",
              "    <tr>\n",
              "      <th>B00HTK1NCS</th>\n",
              "      <td>5511</td>\n",
              "    </tr>\n",
              "    <tr>\n",
              "      <th>B004RMK57U</th>\n",
              "      <td>4263</td>\n",
              "    </tr>\n",
              "    <tr>\n",
              "      <th>B00178630A</th>\n",
              "      <td>3731</td>\n",
              "    </tr>\n",
              "    <tr>\n",
              "      <th>B00KKAQYXM</th>\n",
              "      <td>3675</td>\n",
              "    </tr>\n",
              "    <tr>\n",
              "      <th>B00JJNQG98</th>\n",
              "      <td>3364</td>\n",
              "    </tr>\n",
              "    <tr>\n",
              "      <th>B003ZSP0WW</th>\n",
              "      <td>3362</td>\n",
              "    </tr>\n",
              "    <tr>\n",
              "      <th>B00E4MQODC</th>\n",
              "      <td>2967</td>\n",
              "    </tr>\n",
              "    <tr>\n",
              "      <th>B000B9RI14</th>\n",
              "      <td>2808</td>\n",
              "    </tr>\n",
              "    <tr>\n",
              "      <th>B00DBDPOZ4</th>\n",
              "      <td>2715</td>\n",
              "    </tr>\n",
              "    <tr>\n",
              "      <th>B0009VXBAQ</th>\n",
              "      <td>2667</td>\n",
              "    </tr>\n",
              "  </tbody>\n",
              "</table>\n",
              "</div>\n",
              "      <button class=\"colab-df-convert\" onclick=\"convertToInteractive('df-14266327-1fb4-420c-abef-f66321475277')\"\n",
              "              title=\"Convert this dataframe to an interactive table.\"\n",
              "              style=\"display:none;\">\n",
              "        \n",
              "  <svg xmlns=\"http://www.w3.org/2000/svg\" height=\"24px\"viewBox=\"0 0 24 24\"\n",
              "       width=\"24px\">\n",
              "    <path d=\"M0 0h24v24H0V0z\" fill=\"none\"/>\n",
              "    <path d=\"M18.56 5.44l.94 2.06.94-2.06 2.06-.94-2.06-.94-.94-2.06-.94 2.06-2.06.94zm-11 1L8.5 8.5l.94-2.06 2.06-.94-2.06-.94L8.5 2.5l-.94 2.06-2.06.94zm10 10l.94 2.06.94-2.06 2.06-.94-2.06-.94-.94-2.06-.94 2.06-2.06.94z\"/><path d=\"M17.41 7.96l-1.37-1.37c-.4-.4-.92-.59-1.43-.59-.52 0-1.04.2-1.43.59L10.3 9.45l-7.72 7.72c-.78.78-.78 2.05 0 2.83L4 21.41c.39.39.9.59 1.41.59.51 0 1.02-.2 1.41-.59l7.78-7.78 2.81-2.81c.8-.78.8-2.07 0-2.86zM5.41 20L4 18.59l7.72-7.72 1.47 1.35L5.41 20z\"/>\n",
              "  </svg>\n",
              "      </button>\n",
              "      \n",
              "  <style>\n",
              "    .colab-df-container {\n",
              "      display:flex;\n",
              "      flex-wrap:wrap;\n",
              "      gap: 12px;\n",
              "    }\n",
              "\n",
              "    .colab-df-convert {\n",
              "      background-color: #E8F0FE;\n",
              "      border: none;\n",
              "      border-radius: 50%;\n",
              "      cursor: pointer;\n",
              "      display: none;\n",
              "      fill: #1967D2;\n",
              "      height: 32px;\n",
              "      padding: 0 0 0 0;\n",
              "      width: 32px;\n",
              "    }\n",
              "\n",
              "    .colab-df-convert:hover {\n",
              "      background-color: #E2EBFA;\n",
              "      box-shadow: 0px 1px 2px rgba(60, 64, 67, 0.3), 0px 1px 3px 1px rgba(60, 64, 67, 0.15);\n",
              "      fill: #174EA6;\n",
              "    }\n",
              "\n",
              "    [theme=dark] .colab-df-convert {\n",
              "      background-color: #3B4455;\n",
              "      fill: #D2E3FC;\n",
              "    }\n",
              "\n",
              "    [theme=dark] .colab-df-convert:hover {\n",
              "      background-color: #434B5C;\n",
              "      box-shadow: 0px 1px 3px 1px rgba(0, 0, 0, 0.15);\n",
              "      filter: drop-shadow(0px 1px 2px rgba(0, 0, 0, 0.3));\n",
              "      fill: #FFFFFF;\n",
              "    }\n",
              "  </style>\n",
              "\n",
              "      <script>\n",
              "        const buttonEl =\n",
              "          document.querySelector('#df-14266327-1fb4-420c-abef-f66321475277 button.colab-df-convert');\n",
              "        buttonEl.style.display =\n",
              "          google.colab.kernel.accessAllowed ? 'block' : 'none';\n",
              "\n",
              "        async function convertToInteractive(key) {\n",
              "          const element = document.querySelector('#df-14266327-1fb4-420c-abef-f66321475277');\n",
              "          const dataTable =\n",
              "            await google.colab.kernel.invokeFunction('convertToInteractive',\n",
              "                                                     [key], {});\n",
              "          if (!dataTable) return;\n",
              "\n",
              "          const docLinkHtml = 'Like what you see? Visit the ' +\n",
              "            '<a target=\"_blank\" href=https://colab.research.google.com/notebooks/data_table.ipynb>data table notebook</a>'\n",
              "            + ' to learn more about interactive tables.';\n",
              "          element.innerHTML = '';\n",
              "          dataTable['output_type'] = 'display_data';\n",
              "          await google.colab.output.renderOutput(dataTable, element);\n",
              "          const docLink = document.createElement('div');\n",
              "          docLink.innerHTML = docLinkHtml;\n",
              "          element.appendChild(docLink);\n",
              "        }\n",
              "      </script>\n",
              "    </div>\n",
              "  </div>\n",
              "  "
            ]
          },
          "metadata": {},
          "execution_count": 53
        }
      ]
    },
    {
      "cell_type": "code",
      "source": [
        "dvendas = dprodutos.head(10).index.tolist()"
      ],
      "metadata": {
        "id": "Xp3gqnXADT-v"
      },
      "execution_count": null,
      "outputs": []
    },
    {
      "cell_type": "code",
      "source": [
        "dvendas"
      ],
      "metadata": {
        "colab": {
          "base_uri": "https://localhost:8080/"
        },
        "id": "cwgBlZq1DrTw",
        "outputId": "b313a7f3-c731-4777-94b4-f59e8c2abb08"
      },
      "execution_count": null,
      "outputs": [
        {
          "output_type": "execute_result",
          "data": {
            "text/plain": [
              "['B00HTK1NCS',\n",
              " 'B004RMK57U',\n",
              " 'B00178630A',\n",
              " 'B00KKAQYXM',\n",
              " 'B00JJNQG98',\n",
              " 'B003ZSP0WW',\n",
              " 'B00E4MQODC',\n",
              " 'B000B9RI14',\n",
              " 'B00DBDPOZ4',\n",
              " 'B0009VXBAQ']"
            ]
          },
          "metadata": {},
          "execution_count": 57
        }
      ]
    },
    {
      "cell_type": "markdown",
      "source": [
        "CALCULANDO PARA OS VERIFICADOS POR PRODUTO"
      ],
      "metadata": {
        "id": "IWcnpLRHFKJj"
      }
    },
    {
      "cell_type": "code",
      "source": [
        "dverificado = dfinal.groupby(by='asin', as_index=False) \\\n",
        "            .agg({'verified' : pd.Series.nunique}) \\\n",
        "            .rename(columns = {'verified' : 'verified_count'}) \\\n",
        "            .set_index('asin') \\\n",
        "            .sort_values('verified_count', ascending=False)"
      ],
      "metadata": {
        "id": "2LAa6beuE2p0"
      },
      "execution_count": null,
      "outputs": []
    },
    {
      "cell_type": "code",
      "source": [
        "dverificado.head(10)"
      ],
      "metadata": {
        "colab": {
          "base_uri": "https://localhost:8080/",
          "height": 394
        },
        "id": "EkFn-rdjE2qs",
        "outputId": "72e476dc-8644-4dde-d784-dea06327ea78"
      },
      "execution_count": null,
      "outputs": [
        {
          "output_type": "execute_result",
          "data": {
            "text/plain": [
              "            verified_count\n",
              "asin                      \n",
              "B00000JRSB               2\n",
              "B00J48MUS4               2\n",
              "B00FLLFJE0               2\n",
              "B00FNKMVUO               2\n",
              "B00FWK8UWI               2\n",
              "B00GANWVJE               2\n",
              "B00GMFKYK8               2\n",
              "B00GODZYNA               2\n",
              "B00GU4F4OM               2\n",
              "B00GU8W5AE               2"
            ],
            "text/html": [
              "\n",
              "  <div id=\"df-e717662e-4fa3-47b2-96c6-4a09d95f2757\">\n",
              "    <div class=\"colab-df-container\">\n",
              "      <div>\n",
              "<style scoped>\n",
              "    .dataframe tbody tr th:only-of-type {\n",
              "        vertical-align: middle;\n",
              "    }\n",
              "\n",
              "    .dataframe tbody tr th {\n",
              "        vertical-align: top;\n",
              "    }\n",
              "\n",
              "    .dataframe thead th {\n",
              "        text-align: right;\n",
              "    }\n",
              "</style>\n",
              "<table border=\"1\" class=\"dataframe\">\n",
              "  <thead>\n",
              "    <tr style=\"text-align: right;\">\n",
              "      <th></th>\n",
              "      <th>verified_count</th>\n",
              "    </tr>\n",
              "    <tr>\n",
              "      <th>asin</th>\n",
              "      <th></th>\n",
              "    </tr>\n",
              "  </thead>\n",
              "  <tbody>\n",
              "    <tr>\n",
              "      <th>B00000JRSB</th>\n",
              "      <td>2</td>\n",
              "    </tr>\n",
              "    <tr>\n",
              "      <th>B00J48MUS4</th>\n",
              "      <td>2</td>\n",
              "    </tr>\n",
              "    <tr>\n",
              "      <th>B00FLLFJE0</th>\n",
              "      <td>2</td>\n",
              "    </tr>\n",
              "    <tr>\n",
              "      <th>B00FNKMVUO</th>\n",
              "      <td>2</td>\n",
              "    </tr>\n",
              "    <tr>\n",
              "      <th>B00FWK8UWI</th>\n",
              "      <td>2</td>\n",
              "    </tr>\n",
              "    <tr>\n",
              "      <th>B00GANWVJE</th>\n",
              "      <td>2</td>\n",
              "    </tr>\n",
              "    <tr>\n",
              "      <th>B00GMFKYK8</th>\n",
              "      <td>2</td>\n",
              "    </tr>\n",
              "    <tr>\n",
              "      <th>B00GODZYNA</th>\n",
              "      <td>2</td>\n",
              "    </tr>\n",
              "    <tr>\n",
              "      <th>B00GU4F4OM</th>\n",
              "      <td>2</td>\n",
              "    </tr>\n",
              "    <tr>\n",
              "      <th>B00GU8W5AE</th>\n",
              "      <td>2</td>\n",
              "    </tr>\n",
              "  </tbody>\n",
              "</table>\n",
              "</div>\n",
              "      <button class=\"colab-df-convert\" onclick=\"convertToInteractive('df-e717662e-4fa3-47b2-96c6-4a09d95f2757')\"\n",
              "              title=\"Convert this dataframe to an interactive table.\"\n",
              "              style=\"display:none;\">\n",
              "        \n",
              "  <svg xmlns=\"http://www.w3.org/2000/svg\" height=\"24px\"viewBox=\"0 0 24 24\"\n",
              "       width=\"24px\">\n",
              "    <path d=\"M0 0h24v24H0V0z\" fill=\"none\"/>\n",
              "    <path d=\"M18.56 5.44l.94 2.06.94-2.06 2.06-.94-2.06-.94-.94-2.06-.94 2.06-2.06.94zm-11 1L8.5 8.5l.94-2.06 2.06-.94-2.06-.94L8.5 2.5l-.94 2.06-2.06.94zm10 10l.94 2.06.94-2.06 2.06-.94-2.06-.94-.94-2.06-.94 2.06-2.06.94z\"/><path d=\"M17.41 7.96l-1.37-1.37c-.4-.4-.92-.59-1.43-.59-.52 0-1.04.2-1.43.59L10.3 9.45l-7.72 7.72c-.78.78-.78 2.05 0 2.83L4 21.41c.39.39.9.59 1.41.59.51 0 1.02-.2 1.41-.59l7.78-7.78 2.81-2.81c.8-.78.8-2.07 0-2.86zM5.41 20L4 18.59l7.72-7.72 1.47 1.35L5.41 20z\"/>\n",
              "  </svg>\n",
              "      </button>\n",
              "      \n",
              "  <style>\n",
              "    .colab-df-container {\n",
              "      display:flex;\n",
              "      flex-wrap:wrap;\n",
              "      gap: 12px;\n",
              "    }\n",
              "\n",
              "    .colab-df-convert {\n",
              "      background-color: #E8F0FE;\n",
              "      border: none;\n",
              "      border-radius: 50%;\n",
              "      cursor: pointer;\n",
              "      display: none;\n",
              "      fill: #1967D2;\n",
              "      height: 32px;\n",
              "      padding: 0 0 0 0;\n",
              "      width: 32px;\n",
              "    }\n",
              "\n",
              "    .colab-df-convert:hover {\n",
              "      background-color: #E2EBFA;\n",
              "      box-shadow: 0px 1px 2px rgba(60, 64, 67, 0.3), 0px 1px 3px 1px rgba(60, 64, 67, 0.15);\n",
              "      fill: #174EA6;\n",
              "    }\n",
              "\n",
              "    [theme=dark] .colab-df-convert {\n",
              "      background-color: #3B4455;\n",
              "      fill: #D2E3FC;\n",
              "    }\n",
              "\n",
              "    [theme=dark] .colab-df-convert:hover {\n",
              "      background-color: #434B5C;\n",
              "      box-shadow: 0px 1px 3px 1px rgba(0, 0, 0, 0.15);\n",
              "      filter: drop-shadow(0px 1px 2px rgba(0, 0, 0, 0.3));\n",
              "      fill: #FFFFFF;\n",
              "    }\n",
              "  </style>\n",
              "\n",
              "      <script>\n",
              "        const buttonEl =\n",
              "          document.querySelector('#df-e717662e-4fa3-47b2-96c6-4a09d95f2757 button.colab-df-convert');\n",
              "        buttonEl.style.display =\n",
              "          google.colab.kernel.accessAllowed ? 'block' : 'none';\n",
              "\n",
              "        async function convertToInteractive(key) {\n",
              "          const element = document.querySelector('#df-e717662e-4fa3-47b2-96c6-4a09d95f2757');\n",
              "          const dataTable =\n",
              "            await google.colab.kernel.invokeFunction('convertToInteractive',\n",
              "                                                     [key], {});\n",
              "          if (!dataTable) return;\n",
              "\n",
              "          const docLinkHtml = 'Like what you see? Visit the ' +\n",
              "            '<a target=\"_blank\" href=https://colab.research.google.com/notebooks/data_table.ipynb>data table notebook</a>'\n",
              "            + ' to learn more about interactive tables.';\n",
              "          element.innerHTML = '';\n",
              "          dataTable['output_type'] = 'display_data';\n",
              "          await google.colab.output.renderOutput(dataTable, element);\n",
              "          const docLink = document.createElement('div');\n",
              "          docLink.innerHTML = docLinkHtml;\n",
              "          element.appendChild(docLink);\n",
              "        }\n",
              "      </script>\n",
              "    </div>\n",
              "  </div>\n",
              "  "
            ]
          },
          "metadata": {},
          "execution_count": 60
        }
      ]
    },
    {
      "cell_type": "code",
      "source": [
        "# pegando o top 2000 verificados\n",
        "topverificados = dverificado.head(2000).index.tolist()"
      ],
      "metadata": {
        "id": "CMqedOz6FaRm"
      },
      "execution_count": null,
      "outputs": []
    },
    {
      "cell_type": "code",
      "source": [
        "topverificados[:10]"
      ],
      "metadata": {
        "colab": {
          "base_uri": "https://localhost:8080/"
        },
        "id": "htJ3PjDQFlhU",
        "outputId": "20e13a80-6a03-4c38-884c-d8cc055eba76"
      },
      "execution_count": null,
      "outputs": [
        {
          "output_type": "execute_result",
          "data": {
            "text/plain": [
              "['B00000JRSB',\n",
              " 'B00J48MUS4',\n",
              " 'B00FLLFJE0',\n",
              " 'B00FNKMVUO',\n",
              " 'B00FWK8UWI',\n",
              " 'B00GANWVJE',\n",
              " 'B00GMFKYK8',\n",
              " 'B00GODZYNA',\n",
              " 'B00GU4F4OM',\n",
              " 'B00GU8W5AE']"
            ]
          },
          "metadata": {},
          "execution_count": 64
        }
      ]
    },
    {
      "cell_type": "code",
      "source": [
        "# fazendo para a base toda\n",
        "dfinal.groupby(by='asin', as_index=False) \\\n",
        "            .agg({'verified' : pd.Series.nunique}) \\\n",
        "            .rename(columns = {'verified' : 'verified_mean'}).head(20)"
      ],
      "metadata": {
        "colab": {
          "base_uri": "https://localhost:8080/",
          "height": 676
        },
        "id": "AW_uI5LAF0Mo",
        "outputId": "a5b9708b-208c-457a-eb93-fe6802a55f6d"
      },
      "execution_count": null,
      "outputs": [
        {
          "output_type": "execute_result",
          "data": {
            "text/plain": [
              "          asin  verified_mean\n",
              "0   B00000JRSB              2\n",
              "1   B00005NZ1G              2\n",
              "2   B00005O0I2              2\n",
              "3   B00005Q8M0              2\n",
              "4   B00005TNI6              2\n",
              "5   B000066TS5              2\n",
              "6   B0000696CZ              2\n",
              "7   B000087H7T              2\n",
              "8   B00008J7NZ              2\n",
              "9   B00009OY9U              2\n",
              "10  B0000C7GHG              2\n",
              "11  B0009VXBAQ              2\n",
              "12  B000B9RI14              2\n",
              "13  B000ERVMI8              2\n",
              "14  B000FO4KO8              2\n",
              "15  B000FQ2D5E              2\n",
              "16  B000FQ2DTA              2\n",
              "17  B000FQ9R4E              2\n",
              "18  B000FRU0NU              2\n",
              "19  B000FRU1UM              2"
            ],
            "text/html": [
              "\n",
              "  <div id=\"df-56433fa2-ddb3-415a-a9cd-d10e411bd62f\">\n",
              "    <div class=\"colab-df-container\">\n",
              "      <div>\n",
              "<style scoped>\n",
              "    .dataframe tbody tr th:only-of-type {\n",
              "        vertical-align: middle;\n",
              "    }\n",
              "\n",
              "    .dataframe tbody tr th {\n",
              "        vertical-align: top;\n",
              "    }\n",
              "\n",
              "    .dataframe thead th {\n",
              "        text-align: right;\n",
              "    }\n",
              "</style>\n",
              "<table border=\"1\" class=\"dataframe\">\n",
              "  <thead>\n",
              "    <tr style=\"text-align: right;\">\n",
              "      <th></th>\n",
              "      <th>asin</th>\n",
              "      <th>verified_mean</th>\n",
              "    </tr>\n",
              "  </thead>\n",
              "  <tbody>\n",
              "    <tr>\n",
              "      <th>0</th>\n",
              "      <td>B00000JRSB</td>\n",
              "      <td>2</td>\n",
              "    </tr>\n",
              "    <tr>\n",
              "      <th>1</th>\n",
              "      <td>B00005NZ1G</td>\n",
              "      <td>2</td>\n",
              "    </tr>\n",
              "    <tr>\n",
              "      <th>2</th>\n",
              "      <td>B00005O0I2</td>\n",
              "      <td>2</td>\n",
              "    </tr>\n",
              "    <tr>\n",
              "      <th>3</th>\n",
              "      <td>B00005Q8M0</td>\n",
              "      <td>2</td>\n",
              "    </tr>\n",
              "    <tr>\n",
              "      <th>4</th>\n",
              "      <td>B00005TNI6</td>\n",
              "      <td>2</td>\n",
              "    </tr>\n",
              "    <tr>\n",
              "      <th>5</th>\n",
              "      <td>B000066TS5</td>\n",
              "      <td>2</td>\n",
              "    </tr>\n",
              "    <tr>\n",
              "      <th>6</th>\n",
              "      <td>B0000696CZ</td>\n",
              "      <td>2</td>\n",
              "    </tr>\n",
              "    <tr>\n",
              "      <th>7</th>\n",
              "      <td>B000087H7T</td>\n",
              "      <td>2</td>\n",
              "    </tr>\n",
              "    <tr>\n",
              "      <th>8</th>\n",
              "      <td>B00008J7NZ</td>\n",
              "      <td>2</td>\n",
              "    </tr>\n",
              "    <tr>\n",
              "      <th>9</th>\n",
              "      <td>B00009OY9U</td>\n",
              "      <td>2</td>\n",
              "    </tr>\n",
              "    <tr>\n",
              "      <th>10</th>\n",
              "      <td>B0000C7GHG</td>\n",
              "      <td>2</td>\n",
              "    </tr>\n",
              "    <tr>\n",
              "      <th>11</th>\n",
              "      <td>B0009VXBAQ</td>\n",
              "      <td>2</td>\n",
              "    </tr>\n",
              "    <tr>\n",
              "      <th>12</th>\n",
              "      <td>B000B9RI14</td>\n",
              "      <td>2</td>\n",
              "    </tr>\n",
              "    <tr>\n",
              "      <th>13</th>\n",
              "      <td>B000ERVMI8</td>\n",
              "      <td>2</td>\n",
              "    </tr>\n",
              "    <tr>\n",
              "      <th>14</th>\n",
              "      <td>B000FO4KO8</td>\n",
              "      <td>2</td>\n",
              "    </tr>\n",
              "    <tr>\n",
              "      <th>15</th>\n",
              "      <td>B000FQ2D5E</td>\n",
              "      <td>2</td>\n",
              "    </tr>\n",
              "    <tr>\n",
              "      <th>16</th>\n",
              "      <td>B000FQ2DTA</td>\n",
              "      <td>2</td>\n",
              "    </tr>\n",
              "    <tr>\n",
              "      <th>17</th>\n",
              "      <td>B000FQ9R4E</td>\n",
              "      <td>2</td>\n",
              "    </tr>\n",
              "    <tr>\n",
              "      <th>18</th>\n",
              "      <td>B000FRU0NU</td>\n",
              "      <td>2</td>\n",
              "    </tr>\n",
              "    <tr>\n",
              "      <th>19</th>\n",
              "      <td>B000FRU1UM</td>\n",
              "      <td>2</td>\n",
              "    </tr>\n",
              "  </tbody>\n",
              "</table>\n",
              "</div>\n",
              "      <button class=\"colab-df-convert\" onclick=\"convertToInteractive('df-56433fa2-ddb3-415a-a9cd-d10e411bd62f')\"\n",
              "              title=\"Convert this dataframe to an interactive table.\"\n",
              "              style=\"display:none;\">\n",
              "        \n",
              "  <svg xmlns=\"http://www.w3.org/2000/svg\" height=\"24px\"viewBox=\"0 0 24 24\"\n",
              "       width=\"24px\">\n",
              "    <path d=\"M0 0h24v24H0V0z\" fill=\"none\"/>\n",
              "    <path d=\"M18.56 5.44l.94 2.06.94-2.06 2.06-.94-2.06-.94-.94-2.06-.94 2.06-2.06.94zm-11 1L8.5 8.5l.94-2.06 2.06-.94-2.06-.94L8.5 2.5l-.94 2.06-2.06.94zm10 10l.94 2.06.94-2.06 2.06-.94-2.06-.94-.94-2.06-.94 2.06-2.06.94z\"/><path d=\"M17.41 7.96l-1.37-1.37c-.4-.4-.92-.59-1.43-.59-.52 0-1.04.2-1.43.59L10.3 9.45l-7.72 7.72c-.78.78-.78 2.05 0 2.83L4 21.41c.39.39.9.59 1.41.59.51 0 1.02-.2 1.41-.59l7.78-7.78 2.81-2.81c.8-.78.8-2.07 0-2.86zM5.41 20L4 18.59l7.72-7.72 1.47 1.35L5.41 20z\"/>\n",
              "  </svg>\n",
              "      </button>\n",
              "      \n",
              "  <style>\n",
              "    .colab-df-container {\n",
              "      display:flex;\n",
              "      flex-wrap:wrap;\n",
              "      gap: 12px;\n",
              "    }\n",
              "\n",
              "    .colab-df-convert {\n",
              "      background-color: #E8F0FE;\n",
              "      border: none;\n",
              "      border-radius: 50%;\n",
              "      cursor: pointer;\n",
              "      display: none;\n",
              "      fill: #1967D2;\n",
              "      height: 32px;\n",
              "      padding: 0 0 0 0;\n",
              "      width: 32px;\n",
              "    }\n",
              "\n",
              "    .colab-df-convert:hover {\n",
              "      background-color: #E2EBFA;\n",
              "      box-shadow: 0px 1px 2px rgba(60, 64, 67, 0.3), 0px 1px 3px 1px rgba(60, 64, 67, 0.15);\n",
              "      fill: #174EA6;\n",
              "    }\n",
              "\n",
              "    [theme=dark] .colab-df-convert {\n",
              "      background-color: #3B4455;\n",
              "      fill: #D2E3FC;\n",
              "    }\n",
              "\n",
              "    [theme=dark] .colab-df-convert:hover {\n",
              "      background-color: #434B5C;\n",
              "      box-shadow: 0px 1px 3px 1px rgba(0, 0, 0, 0.15);\n",
              "      filter: drop-shadow(0px 1px 2px rgba(0, 0, 0, 0.3));\n",
              "      fill: #FFFFFF;\n",
              "    }\n",
              "  </style>\n",
              "\n",
              "      <script>\n",
              "        const buttonEl =\n",
              "          document.querySelector('#df-56433fa2-ddb3-415a-a9cd-d10e411bd62f button.colab-df-convert');\n",
              "        buttonEl.style.display =\n",
              "          google.colab.kernel.accessAllowed ? 'block' : 'none';\n",
              "\n",
              "        async function convertToInteractive(key) {\n",
              "          const element = document.querySelector('#df-56433fa2-ddb3-415a-a9cd-d10e411bd62f');\n",
              "          const dataTable =\n",
              "            await google.colab.kernel.invokeFunction('convertToInteractive',\n",
              "                                                     [key], {});\n",
              "          if (!dataTable) return;\n",
              "\n",
              "          const docLinkHtml = 'Like what you see? Visit the ' +\n",
              "            '<a target=\"_blank\" href=https://colab.research.google.com/notebooks/data_table.ipynb>data table notebook</a>'\n",
              "            + ' to learn more about interactive tables.';\n",
              "          element.innerHTML = '';\n",
              "          dataTable['output_type'] = 'display_data';\n",
              "          await google.colab.output.renderOutput(dataTable, element);\n",
              "          const docLink = document.createElement('div');\n",
              "          docLink.innerHTML = docLinkHtml;\n",
              "          element.appendChild(docLink);\n",
              "        }\n",
              "      </script>\n",
              "    </div>\n",
              "  </div>\n",
              "  "
            ]
          },
          "metadata": {},
          "execution_count": 65
        }
      ]
    },
    {
      "cell_type": "markdown",
      "source": [
        "# 5.0 MATRIZ DE RELACIONAMENTO"
      ],
      "metadata": {
        "id": "ylHl5ikHJHtB"
      }
    },
    {
      "cell_type": "code",
      "source": [
        "matriz_de_relacionamento_topverificados = dfinal[dfinal['asin'].isin(topverificados)] \\\n",
        "  .pivot_table(index='asin', columns='reviewerID', values='verified').fillna(0)"
      ],
      "metadata": {
        "id": "4xx8TSXbJNKq"
      },
      "execution_count": null,
      "outputs": []
    },
    {
      "cell_type": "markdown",
      "source": [
        ""
      ],
      "metadata": {
        "id": "OQ6yYGjkKoqB"
      }
    },
    {
      "cell_type": "code",
      "source": [
        "matriz_de_relacionamento_topverificados.shape"
      ],
      "metadata": {
        "colab": {
          "base_uri": "https://localhost:8080/"
        },
        "id": "awfh2AcYKMIo",
        "outputId": "b441396e-000e-4504-d55e-1e6fe1942374"
      },
      "execution_count": null,
      "outputs": [
        {
          "output_type": "execute_result",
          "data": {
            "text/plain": [
              "(266, 315026)"
            ]
          },
          "metadata": {},
          "execution_count": 68
        }
      ]
    },
    {
      "cell_type": "code",
      "source": [
        "matriz_de_relacionamento_topverificados.head()"
      ],
      "metadata": {
        "colab": {
          "base_uri": "https://localhost:8080/",
          "height": 331
        },
        "id": "BUwf3hXiKTB_",
        "outputId": "6ef9fa56-d4e9-430c-8990-a2b65dd1487e"
      },
      "execution_count": null,
      "outputs": [
        {
          "output_type": "execute_result",
          "data": {
            "text/plain": [
              "reviewerID  A0003214FKMKJE0PCW3D  A0005622E33Y7RCVKKVN  A00065507CNSR8UHQFCK  \\\n",
              "asin                                                                           \n",
              "B00000JRSB                   0.0                   0.0                   0.0   \n",
              "B00005NZ1G                   0.0                   0.0                   0.0   \n",
              "B00005O0I2                   0.0                   0.0                   0.0   \n",
              "B00005Q8M0                   0.0                   0.0                   0.0   \n",
              "B00005TNI6                   0.0                   0.0                   0.0   \n",
              "\n",
              "reviewerID  A0011756FPL8K71Q5TAQ  A001932810S6RCIFHJ3V  A0025672ALSPPB1RH94H  \\\n",
              "asin                                                                           \n",
              "B00000JRSB                   0.0                   0.0                   0.0   \n",
              "B00005NZ1G                   0.0                   0.0                   0.0   \n",
              "B00005O0I2                   0.0                   0.0                   0.0   \n",
              "B00005Q8M0                   0.0                   0.0                   0.0   \n",
              "B00005TNI6                   0.0                   0.0                   0.0   \n",
              "\n",
              "reviewerID  A00356786CQNSUGGK2FA  A0039616ADOZ0KMWQRNX  A0049794AHFDZTYE50T0  \\\n",
              "asin                                                                           \n",
              "B00000JRSB                   0.0                   0.0                   0.0   \n",
              "B00005NZ1G                   0.0                   0.0                   0.0   \n",
              "B00005O0I2                   0.0                   0.0                   0.0   \n",
              "B00005Q8M0                   0.0                   0.0                   0.0   \n",
              "B00005TNI6                   0.0                   0.0                   0.0   \n",
              "\n",
              "reviewerID  A0059356O50A83G4RYQ7  ...  AZZUP6QP2D82V  AZZUQ22H8ZYZU  \\\n",
              "asin                              ...                                 \n",
              "B00000JRSB                   0.0  ...            0.0            0.0   \n",
              "B00005NZ1G                   0.0  ...            0.0            0.0   \n",
              "B00005O0I2                   0.0  ...            0.0            0.0   \n",
              "B00005Q8M0                   0.0  ...            0.0            0.0   \n",
              "B00005TNI6                   0.0  ...            0.0            0.0   \n",
              "\n",
              "reviewerID  AZZV78H5A713R  AZZV9M0S13U26  AZZW3Z3NTGMY7  AZZWV8SNTXQ7U  \\\n",
              "asin                                                                     \n",
              "B00000JRSB            0.0            0.0            0.0            0.0   \n",
              "B00005NZ1G            0.0            0.0            0.0            0.0   \n",
              "B00005O0I2            0.0            0.0            0.0            0.0   \n",
              "B00005Q8M0            0.0            0.0            0.0            0.0   \n",
              "B00005TNI6            0.0            0.0            0.0            0.0   \n",
              "\n",
              "reviewerID  AZZX40NRMUDDQ  AZZX6JJHIO4UZ  AZZYR0PRM4RBT  AZZZOLOP9ZO8B  \n",
              "asin                                                                    \n",
              "B00000JRSB            0.0            0.0            0.0            0.0  \n",
              "B00005NZ1G            0.0            0.0            0.0            0.0  \n",
              "B00005O0I2            0.0            0.0            0.0            0.0  \n",
              "B00005Q8M0            0.0            0.0            0.0            0.0  \n",
              "B00005TNI6            0.0            0.0            0.0            0.0  \n",
              "\n",
              "[5 rows x 315026 columns]"
            ],
            "text/html": [
              "\n",
              "  <div id=\"df-97dfb71c-8da3-42b1-a801-d35fea7d2029\">\n",
              "    <div class=\"colab-df-container\">\n",
              "      <div>\n",
              "<style scoped>\n",
              "    .dataframe tbody tr th:only-of-type {\n",
              "        vertical-align: middle;\n",
              "    }\n",
              "\n",
              "    .dataframe tbody tr th {\n",
              "        vertical-align: top;\n",
              "    }\n",
              "\n",
              "    .dataframe thead th {\n",
              "        text-align: right;\n",
              "    }\n",
              "</style>\n",
              "<table border=\"1\" class=\"dataframe\">\n",
              "  <thead>\n",
              "    <tr style=\"text-align: right;\">\n",
              "      <th>reviewerID</th>\n",
              "      <th>A0003214FKMKJE0PCW3D</th>\n",
              "      <th>A0005622E33Y7RCVKKVN</th>\n",
              "      <th>A00065507CNSR8UHQFCK</th>\n",
              "      <th>A0011756FPL8K71Q5TAQ</th>\n",
              "      <th>A001932810S6RCIFHJ3V</th>\n",
              "      <th>A0025672ALSPPB1RH94H</th>\n",
              "      <th>A00356786CQNSUGGK2FA</th>\n",
              "      <th>A0039616ADOZ0KMWQRNX</th>\n",
              "      <th>A0049794AHFDZTYE50T0</th>\n",
              "      <th>A0059356O50A83G4RYQ7</th>\n",
              "      <th>...</th>\n",
              "      <th>AZZUP6QP2D82V</th>\n",
              "      <th>AZZUQ22H8ZYZU</th>\n",
              "      <th>AZZV78H5A713R</th>\n",
              "      <th>AZZV9M0S13U26</th>\n",
              "      <th>AZZW3Z3NTGMY7</th>\n",
              "      <th>AZZWV8SNTXQ7U</th>\n",
              "      <th>AZZX40NRMUDDQ</th>\n",
              "      <th>AZZX6JJHIO4UZ</th>\n",
              "      <th>AZZYR0PRM4RBT</th>\n",
              "      <th>AZZZOLOP9ZO8B</th>\n",
              "    </tr>\n",
              "    <tr>\n",
              "      <th>asin</th>\n",
              "      <th></th>\n",
              "      <th></th>\n",
              "      <th></th>\n",
              "      <th></th>\n",
              "      <th></th>\n",
              "      <th></th>\n",
              "      <th></th>\n",
              "      <th></th>\n",
              "      <th></th>\n",
              "      <th></th>\n",
              "      <th></th>\n",
              "      <th></th>\n",
              "      <th></th>\n",
              "      <th></th>\n",
              "      <th></th>\n",
              "      <th></th>\n",
              "      <th></th>\n",
              "      <th></th>\n",
              "      <th></th>\n",
              "      <th></th>\n",
              "      <th></th>\n",
              "    </tr>\n",
              "  </thead>\n",
              "  <tbody>\n",
              "    <tr>\n",
              "      <th>B00000JRSB</th>\n",
              "      <td>0.0</td>\n",
              "      <td>0.0</td>\n",
              "      <td>0.0</td>\n",
              "      <td>0.0</td>\n",
              "      <td>0.0</td>\n",
              "      <td>0.0</td>\n",
              "      <td>0.0</td>\n",
              "      <td>0.0</td>\n",
              "      <td>0.0</td>\n",
              "      <td>0.0</td>\n",
              "      <td>...</td>\n",
              "      <td>0.0</td>\n",
              "      <td>0.0</td>\n",
              "      <td>0.0</td>\n",
              "      <td>0.0</td>\n",
              "      <td>0.0</td>\n",
              "      <td>0.0</td>\n",
              "      <td>0.0</td>\n",
              "      <td>0.0</td>\n",
              "      <td>0.0</td>\n",
              "      <td>0.0</td>\n",
              "    </tr>\n",
              "    <tr>\n",
              "      <th>B00005NZ1G</th>\n",
              "      <td>0.0</td>\n",
              "      <td>0.0</td>\n",
              "      <td>0.0</td>\n",
              "      <td>0.0</td>\n",
              "      <td>0.0</td>\n",
              "      <td>0.0</td>\n",
              "      <td>0.0</td>\n",
              "      <td>0.0</td>\n",
              "      <td>0.0</td>\n",
              "      <td>0.0</td>\n",
              "      <td>...</td>\n",
              "      <td>0.0</td>\n",
              "      <td>0.0</td>\n",
              "      <td>0.0</td>\n",
              "      <td>0.0</td>\n",
              "      <td>0.0</td>\n",
              "      <td>0.0</td>\n",
              "      <td>0.0</td>\n",
              "      <td>0.0</td>\n",
              "      <td>0.0</td>\n",
              "      <td>0.0</td>\n",
              "    </tr>\n",
              "    <tr>\n",
              "      <th>B00005O0I2</th>\n",
              "      <td>0.0</td>\n",
              "      <td>0.0</td>\n",
              "      <td>0.0</td>\n",
              "      <td>0.0</td>\n",
              "      <td>0.0</td>\n",
              "      <td>0.0</td>\n",
              "      <td>0.0</td>\n",
              "      <td>0.0</td>\n",
              "      <td>0.0</td>\n",
              "      <td>0.0</td>\n",
              "      <td>...</td>\n",
              "      <td>0.0</td>\n",
              "      <td>0.0</td>\n",
              "      <td>0.0</td>\n",
              "      <td>0.0</td>\n",
              "      <td>0.0</td>\n",
              "      <td>0.0</td>\n",
              "      <td>0.0</td>\n",
              "      <td>0.0</td>\n",
              "      <td>0.0</td>\n",
              "      <td>0.0</td>\n",
              "    </tr>\n",
              "    <tr>\n",
              "      <th>B00005Q8M0</th>\n",
              "      <td>0.0</td>\n",
              "      <td>0.0</td>\n",
              "      <td>0.0</td>\n",
              "      <td>0.0</td>\n",
              "      <td>0.0</td>\n",
              "      <td>0.0</td>\n",
              "      <td>0.0</td>\n",
              "      <td>0.0</td>\n",
              "      <td>0.0</td>\n",
              "      <td>0.0</td>\n",
              "      <td>...</td>\n",
              "      <td>0.0</td>\n",
              "      <td>0.0</td>\n",
              "      <td>0.0</td>\n",
              "      <td>0.0</td>\n",
              "      <td>0.0</td>\n",
              "      <td>0.0</td>\n",
              "      <td>0.0</td>\n",
              "      <td>0.0</td>\n",
              "      <td>0.0</td>\n",
              "      <td>0.0</td>\n",
              "    </tr>\n",
              "    <tr>\n",
              "      <th>B00005TNI6</th>\n",
              "      <td>0.0</td>\n",
              "      <td>0.0</td>\n",
              "      <td>0.0</td>\n",
              "      <td>0.0</td>\n",
              "      <td>0.0</td>\n",
              "      <td>0.0</td>\n",
              "      <td>0.0</td>\n",
              "      <td>0.0</td>\n",
              "      <td>0.0</td>\n",
              "      <td>0.0</td>\n",
              "      <td>...</td>\n",
              "      <td>0.0</td>\n",
              "      <td>0.0</td>\n",
              "      <td>0.0</td>\n",
              "      <td>0.0</td>\n",
              "      <td>0.0</td>\n",
              "      <td>0.0</td>\n",
              "      <td>0.0</td>\n",
              "      <td>0.0</td>\n",
              "      <td>0.0</td>\n",
              "      <td>0.0</td>\n",
              "    </tr>\n",
              "  </tbody>\n",
              "</table>\n",
              "<p>5 rows × 315026 columns</p>\n",
              "</div>\n",
              "      <button class=\"colab-df-convert\" onclick=\"convertToInteractive('df-97dfb71c-8da3-42b1-a801-d35fea7d2029')\"\n",
              "              title=\"Convert this dataframe to an interactive table.\"\n",
              "              style=\"display:none;\">\n",
              "        \n",
              "  <svg xmlns=\"http://www.w3.org/2000/svg\" height=\"24px\"viewBox=\"0 0 24 24\"\n",
              "       width=\"24px\">\n",
              "    <path d=\"M0 0h24v24H0V0z\" fill=\"none\"/>\n",
              "    <path d=\"M18.56 5.44l.94 2.06.94-2.06 2.06-.94-2.06-.94-.94-2.06-.94 2.06-2.06.94zm-11 1L8.5 8.5l.94-2.06 2.06-.94-2.06-.94L8.5 2.5l-.94 2.06-2.06.94zm10 10l.94 2.06.94-2.06 2.06-.94-2.06-.94-.94-2.06-.94 2.06-2.06.94z\"/><path d=\"M17.41 7.96l-1.37-1.37c-.4-.4-.92-.59-1.43-.59-.52 0-1.04.2-1.43.59L10.3 9.45l-7.72 7.72c-.78.78-.78 2.05 0 2.83L4 21.41c.39.39.9.59 1.41.59.51 0 1.02-.2 1.41-.59l7.78-7.78 2.81-2.81c.8-.78.8-2.07 0-2.86zM5.41 20L4 18.59l7.72-7.72 1.47 1.35L5.41 20z\"/>\n",
              "  </svg>\n",
              "      </button>\n",
              "      \n",
              "  <style>\n",
              "    .colab-df-container {\n",
              "      display:flex;\n",
              "      flex-wrap:wrap;\n",
              "      gap: 12px;\n",
              "    }\n",
              "\n",
              "    .colab-df-convert {\n",
              "      background-color: #E8F0FE;\n",
              "      border: none;\n",
              "      border-radius: 50%;\n",
              "      cursor: pointer;\n",
              "      display: none;\n",
              "      fill: #1967D2;\n",
              "      height: 32px;\n",
              "      padding: 0 0 0 0;\n",
              "      width: 32px;\n",
              "    }\n",
              "\n",
              "    .colab-df-convert:hover {\n",
              "      background-color: #E2EBFA;\n",
              "      box-shadow: 0px 1px 2px rgba(60, 64, 67, 0.3), 0px 1px 3px 1px rgba(60, 64, 67, 0.15);\n",
              "      fill: #174EA6;\n",
              "    }\n",
              "\n",
              "    [theme=dark] .colab-df-convert {\n",
              "      background-color: #3B4455;\n",
              "      fill: #D2E3FC;\n",
              "    }\n",
              "\n",
              "    [theme=dark] .colab-df-convert:hover {\n",
              "      background-color: #434B5C;\n",
              "      box-shadow: 0px 1px 3px 1px rgba(0, 0, 0, 0.15);\n",
              "      filter: drop-shadow(0px 1px 2px rgba(0, 0, 0, 0.3));\n",
              "      fill: #FFFFFF;\n",
              "    }\n",
              "  </style>\n",
              "\n",
              "      <script>\n",
              "        const buttonEl =\n",
              "          document.querySelector('#df-97dfb71c-8da3-42b1-a801-d35fea7d2029 button.colab-df-convert');\n",
              "        buttonEl.style.display =\n",
              "          google.colab.kernel.accessAllowed ? 'block' : 'none';\n",
              "\n",
              "        async function convertToInteractive(key) {\n",
              "          const element = document.querySelector('#df-97dfb71c-8da3-42b1-a801-d35fea7d2029');\n",
              "          const dataTable =\n",
              "            await google.colab.kernel.invokeFunction('convertToInteractive',\n",
              "                                                     [key], {});\n",
              "          if (!dataTable) return;\n",
              "\n",
              "          const docLinkHtml = 'Like what you see? Visit the ' +\n",
              "            '<a target=\"_blank\" href=https://colab.research.google.com/notebooks/data_table.ipynb>data table notebook</a>'\n",
              "            + ' to learn more about interactive tables.';\n",
              "          element.innerHTML = '';\n",
              "          dataTable['output_type'] = 'display_data';\n",
              "          await google.colab.output.renderOutput(dataTable, element);\n",
              "          const docLink = document.createElement('div');\n",
              "          docLink.innerHTML = docLinkHtml;\n",
              "          element.appendChild(docLink);\n",
              "        }\n",
              "      </script>\n",
              "    </div>\n",
              "  </div>\n",
              "  "
            ]
          },
          "metadata": {},
          "execution_count": 69
        }
      ]
    },
    {
      "cell_type": "code",
      "source": [
        "# Quantidade de avaliações\n",
        "matriz_de_relacionamento_topverificados.sum()"
      ],
      "metadata": {
        "colab": {
          "base_uri": "https://localhost:8080/"
        },
        "id": "MzicVpl-KW3r",
        "outputId": "7daeb511-8444-4fce-ef77-53d4e6f9cd5e"
      },
      "execution_count": null,
      "outputs": [
        {
          "output_type": "execute_result",
          "data": {
            "text/plain": [
              "reviewerID\n",
              "A0003214FKMKJE0PCW3D    1.0\n",
              "A0005622E33Y7RCVKKVN    3.0\n",
              "A00065507CNSR8UHQFCK    1.0\n",
              "A0011756FPL8K71Q5TAQ    1.0\n",
              "A001932810S6RCIFHJ3V    1.0\n",
              "                       ... \n",
              "AZZWV8SNTXQ7U           1.0\n",
              "AZZX40NRMUDDQ           1.0\n",
              "AZZX6JJHIO4UZ           1.0\n",
              "AZZYR0PRM4RBT           1.0\n",
              "AZZZOLOP9ZO8B           0.0\n",
              "Length: 315026, dtype: float64"
            ]
          },
          "metadata": {},
          "execution_count": 70
        }
      ]
    },
    {
      "cell_type": "markdown",
      "source": [
        "# 5.1 MATRIZ DE SIMILARIDADES"
      ],
      "metadata": {
        "id": "wGSjHcqhKqOe"
      }
    },
    {
      "cell_type": "code",
      "source": [
        "cos_asin = cosine_similarity(matriz_de_relacionamento_topverificados)\n",
        "\n",
        "print(cos_asin)\n",
        "cos_asin.shape"
      ],
      "metadata": {
        "colab": {
          "base_uri": "https://localhost:8080/"
        },
        "id": "JuuIJXYqKyN8",
        "outputId": "f6bb5337-74d9-4595-9ecf-b53d579439c6"
      },
      "execution_count": null,
      "outputs": [
        {
          "output_type": "stream",
          "name": "stdout",
          "text": [
            "[[1. 0. 0. ... 0. 0. 0.]\n",
            " [0. 1. 0. ... 0. 0. 0.]\n",
            " [0. 0. 1. ... 0. 0. 0.]\n",
            " ...\n",
            " [0. 0. 0. ... 1. 0. 0.]\n",
            " [0. 0. 0. ... 0. 1. 0.]\n",
            " [0. 0. 0. ... 0. 0. 1.]]\n"
          ]
        },
        {
          "output_type": "execute_result",
          "data": {
            "text/plain": [
              "(266, 266)"
            ]
          },
          "metadata": {},
          "execution_count": 71
        }
      ]
    },
    {
      "cell_type": "code",
      "source": [
        "# Existe uma similaridades dos produtos, produziremos o modelo de recomendação\n",
        "def recomendar(asin):\n",
        "  print(f'Produto pesquisado: {asin}')\n",
        "  try:\n",
        "    asin_idx = matriz_de_relacionamento_topverificados.index.tolist().index(asin)\n",
        "    closest_10_asin = np.argsort(-cos_asin[asin_idx])[1:11]\n",
        "    print(f'Os 10 produtos mais próximos do asin: {asin} são :')\n",
        "    return matriz_de_relacionamento_topverificados.index[closest_10_asin].tolist()\n",
        "  except ValueError as e:\n",
        "    print(f'{asin} não encontrado na matriz de recomendação. Retornando os 10 produtos mais avaliados')\n",
        "    return dvendas"
      ],
      "metadata": {
        "id": "oSuVu13VND3H"
      },
      "execution_count": null,
      "outputs": []
    },
    {
      "cell_type": "markdown",
      "source": [
        "TESTANDO OS SISTEMA"
      ],
      "metadata": {
        "id": "Tm_LEaibNmrU"
      }
    },
    {
      "cell_type": "code",
      "source": [
        "asin = 'B00005Q8M0'\n",
        "asin_10_mais_proximos = recomendar(asin)\n",
        "\n",
        "asin_10_mais_proximos"
      ],
      "metadata": {
        "colab": {
          "base_uri": "https://localhost:8080/"
        },
        "id": "nBiWyTe_Nq1i",
        "outputId": "a8d52c51-c957-4c25-f13d-03d5d50cc398"
      },
      "execution_count": null,
      "outputs": [
        {
          "output_type": "stream",
          "name": "stdout",
          "text": [
            "Produto pesquisado: B00005Q8M0\n",
            "Os 10 produtos mais próximos do asin: B00005Q8M0 são :\n"
          ]
        },
        {
          "output_type": "execute_result",
          "data": {
            "text/plain": [
              "['B00005TNI6',\n",
              " 'B0017KIBAI',\n",
              " 'B0009VXBAQ',\n",
              " 'B000FQ2DTA',\n",
              " 'B0011E4J2Y',\n",
              " 'B00EZPCX1A',\n",
              " 'B002TK1PX0',\n",
              " 'B00000JRSB',\n",
              " 'B000087H7T',\n",
              " 'B000FQ9R4E']"
            ]
          },
          "metadata": {},
          "execution_count": 73
        }
      ]
    },
    {
      "cell_type": "code",
      "source": [
        "asin = 'asin_inexist'\n",
        "asin_10_mais_proximos = recomendar(asin)\n",
        "\n",
        "asin_10_mais_proximos"
      ],
      "metadata": {
        "colab": {
          "base_uri": "https://localhost:8080/"
        },
        "id": "I3nNPq11OW8V",
        "outputId": "28d33436-4714-497f-c260-f9c1ce4cb901"
      },
      "execution_count": null,
      "outputs": [
        {
          "output_type": "stream",
          "name": "stdout",
          "text": [
            "Produto pesquisado: asin_inexist\n",
            "asin_inexist não encontrado na matriz de recomendação. Retornando os 10 produtos mais avaliados\n"
          ]
        },
        {
          "output_type": "execute_result",
          "data": {
            "text/plain": [
              "['B00HTK1NCS',\n",
              " 'B004RMK57U',\n",
              " 'B00178630A',\n",
              " 'B00KKAQYXM',\n",
              " 'B00JJNQG98',\n",
              " 'B003ZSP0WW',\n",
              " 'B00E4MQODC',\n",
              " 'B000B9RI14',\n",
              " 'B00DBDPOZ4',\n",
              " 'B0009VXBAQ']"
            ]
          },
          "metadata": {},
          "execution_count": 74
        }
      ]
    },
    {
      "cell_type": "markdown",
      "source": [
        "# 6.0 CONCLUSÃO\n",
        "\n",
        "O sistema de recomendação conta com matrizes esparsas, o ideal seria achar uma diminuição, levando a descrição do produto em consideração, avaliando a compra do produto."
      ],
      "metadata": {
        "id": "xTUc_eRdOkGO"
      }
    }
  ],
  "metadata": {
    "colab": {
      "collapsed_sections": [],
      "name": "Recommendation system assignment.ipynb",
      "provenance": []
    },
    "kernelspec": {
      "display_name": "Python 3",
      "name": "python3"
    },
    "language_info": {
      "name": "python"
    }
  },
  "nbformat": 4,
  "nbformat_minor": 0
}